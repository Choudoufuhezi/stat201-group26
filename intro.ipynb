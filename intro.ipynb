{
 "cells": [
  {
   "cell_type": "code",
   "execution_count": 1,
   "id": "4fb96962-776c-4774-8b2e-8a66f73eda40",
   "metadata": {},
   "outputs": [
    {
     "name": "stderr",
     "output_type": "stream",
     "text": [
      "── \u001b[1mAttaching packages\u001b[22m ─────────────────────────────────────── tidyverse 1.3.0 ──\n",
      "\n",
      "\u001b[32m✔\u001b[39m \u001b[34mggplot2\u001b[39m 3.3.6     \u001b[32m✔\u001b[39m \u001b[34mpurrr  \u001b[39m 0.3.4\n",
      "\u001b[32m✔\u001b[39m \u001b[34mtibble \u001b[39m 3.1.7     \u001b[32m✔\u001b[39m \u001b[34mdplyr  \u001b[39m 1.0.9\n",
      "\u001b[32m✔\u001b[39m \u001b[34mtidyr  \u001b[39m 1.2.0     \u001b[32m✔\u001b[39m \u001b[34mstringr\u001b[39m 1.4.0\n",
      "\u001b[32m✔\u001b[39m \u001b[34mreadr  \u001b[39m 2.1.2     \u001b[32m✔\u001b[39m \u001b[34mforcats\u001b[39m 0.5.1\n",
      "\n",
      "── \u001b[1mConflicts\u001b[22m ────────────────────────────────────────── tidyverse_conflicts() ──\n",
      "\u001b[31m✖\u001b[39m \u001b[34mdplyr\u001b[39m::\u001b[32mfilter()\u001b[39m masks \u001b[34mstats\u001b[39m::filter()\n",
      "\u001b[31m✖\u001b[39m \u001b[34mdplyr\u001b[39m::\u001b[32mlag()\u001b[39m    masks \u001b[34mstats\u001b[39m::lag()\n",
      "\n",
      "\n",
      "Attaching package: ‘gridExtra’\n",
      "\n",
      "\n",
      "The following object is masked from ‘package:dplyr’:\n",
      "\n",
      "    combine\n",
      "\n",
      "\n",
      "Updating HTML index of packages in '.Library'\n",
      "\n",
      "Making 'packages.html' ...\n",
      " done\n",
      "\n"
     ]
    }
   ],
   "source": [
    "library(tidyverse)\n",
    "library(repr)\n",
    "library(digest)\n",
    "library(infer)\n",
    "library(gridExtra)\n",
    "library(taxyvr)\n",
    "library(cowplot)\n",
    "install.packages(\"formattable\")\n",
    "library(formattable)"
   ]
  },
  {
   "cell_type": "markdown",
   "id": "fd0b66bd",
   "metadata": {},
   "source": [
    "# Investigation into Median Data Science Salaries"
   ]
  },
  {
   "cell_type": "markdown",
   "id": "8c729aee",
   "metadata": {},
   "source": [
    "### INTRODUCTION"
   ]
  },
  {
   "cell_type": "markdown",
   "id": "d031ac08",
   "metadata": {},
   "source": [
    "Increased use of data in decision-making across the economy has resulted in strong demand for those with Data Science qualifications.  Having witnessed a 650% increase in the last decade, employment growth is projected to be 31.4% from 2020 to 2030 (Zair, C. 2021; Data Science Jobs Guide).  Given this buoyant outlook, what can Data Science professionals expect salary wise? In addition, fully remote teams have increased from 2.3% to 20% (Ozimek, 2020) — we will explore whether there is a salary difference in remote-majority vs minority positions. To accommodate for the right-skew of our sample distributions, our project will investigate the median salary and interquartile range of full-time Data Science professionals in the United States. Our report utilizes a dataset from Kaggle comprising of salary and other employment information anonymously submitted by Data Science professionals."
   ]
  },
  {
   "cell_type": "markdown",
   "id": "4d821164-27a4-4987-bb43-2749ee661aaf",
   "metadata": {},
   "source": [
    "### Definition of terms:\n",
    "(1) remote-minorty offices (remote_0)\n",
    "\n",
    "(2) remote-majority offices (remote_100)"
   ]
  },
  {
   "cell_type": "markdown",
   "id": "84315a38",
   "metadata": {},
   "source": [
    "### PRELIMINARY RESULTS"
   ]
  },
  {
   "cell_type": "code",
   "execution_count": 2,
   "id": "cf03212c-4a3f-4261-8bf7-40c2a9c857b5",
   "metadata": {},
   "outputs": [
    {
     "name": "stderr",
     "output_type": "stream",
     "text": [
      "\u001b[1m\u001b[22mNew names:\n",
      "\u001b[36m•\u001b[39m `` -> `...1`\n",
      "\u001b[1mRows: \u001b[22m\u001b[34m607\u001b[39m \u001b[1mColumns: \u001b[22m\u001b[34m12\u001b[39m\n",
      "\u001b[36m──\u001b[39m \u001b[1mColumn specification\u001b[22m \u001b[36m────────────────────────────────────────────────────────\u001b[39m\n",
      "\u001b[1mDelimiter:\u001b[22m \",\"\n",
      "\u001b[31mchr\u001b[39m (7): experience_level, employment_type, job_title, salary_currency, empl...\n",
      "\u001b[32mdbl\u001b[39m (5): ...1, work_year, salary, salary_in_usd, remote_ratio\n",
      "\n",
      "\u001b[36mℹ\u001b[39m Use `spec()` to retrieve the full column specification for this data.\n",
      "\u001b[36mℹ\u001b[39m Specify the column types or set `show_col_types = FALSE` to quiet this message.\n"
     ]
    },
    {
     "data": {
      "text/html": [
       "<table class=\"dataframe\">\n",
       "<caption>A tibble: 6 × 12</caption>\n",
       "<thead>\n",
       "\t<tr><th scope=col>...1</th><th scope=col>work_year</th><th scope=col>experience_level</th><th scope=col>employment_type</th><th scope=col>job_title</th><th scope=col>salary</th><th scope=col>salary_currency</th><th scope=col>salary_in_usd</th><th scope=col>employee_residence</th><th scope=col>remote_ratio</th><th scope=col>company_location</th><th scope=col>company_size</th></tr>\n",
       "\t<tr><th scope=col>&lt;dbl&gt;</th><th scope=col>&lt;dbl&gt;</th><th scope=col>&lt;chr&gt;</th><th scope=col>&lt;chr&gt;</th><th scope=col>&lt;chr&gt;</th><th scope=col>&lt;dbl&gt;</th><th scope=col>&lt;chr&gt;</th><th scope=col>&lt;dbl&gt;</th><th scope=col>&lt;chr&gt;</th><th scope=col>&lt;dbl&gt;</th><th scope=col>&lt;chr&gt;</th><th scope=col>&lt;chr&gt;</th></tr>\n",
       "</thead>\n",
       "<tbody>\n",
       "\t<tr><td>0</td><td>2020</td><td>MI</td><td>FT</td><td>Data Scientist            </td><td> 70000</td><td>EUR</td><td> 79833</td><td>DE</td><td>  0</td><td>DE</td><td>L</td></tr>\n",
       "\t<tr><td>1</td><td>2020</td><td>SE</td><td>FT</td><td>Machine Learning Scientist</td><td>260000</td><td>USD</td><td>260000</td><td>JP</td><td>  0</td><td>JP</td><td>S</td></tr>\n",
       "\t<tr><td>2</td><td>2020</td><td>SE</td><td>FT</td><td>Big Data Engineer         </td><td> 85000</td><td>GBP</td><td>109024</td><td>GB</td><td> 50</td><td>GB</td><td>M</td></tr>\n",
       "\t<tr><td>3</td><td>2020</td><td>MI</td><td>FT</td><td>Product Data Analyst      </td><td> 20000</td><td>USD</td><td> 20000</td><td>HN</td><td>  0</td><td>HN</td><td>S</td></tr>\n",
       "\t<tr><td>4</td><td>2020</td><td>SE</td><td>FT</td><td>Machine Learning Engineer </td><td>150000</td><td>USD</td><td>150000</td><td>US</td><td> 50</td><td>US</td><td>L</td></tr>\n",
       "\t<tr><td>5</td><td>2020</td><td>EN</td><td>FT</td><td>Data Analyst              </td><td> 72000</td><td>USD</td><td> 72000</td><td>US</td><td>100</td><td>US</td><td>L</td></tr>\n",
       "</tbody>\n",
       "</table>\n"
      ],
      "text/latex": [
       "A tibble: 6 × 12\n",
       "\\begin{tabular}{llllllllllll}\n",
       " ...1 & work\\_year & experience\\_level & employment\\_type & job\\_title & salary & salary\\_currency & salary\\_in\\_usd & employee\\_residence & remote\\_ratio & company\\_location & company\\_size\\\\\n",
       " <dbl> & <dbl> & <chr> & <chr> & <chr> & <dbl> & <chr> & <dbl> & <chr> & <dbl> & <chr> & <chr>\\\\\n",
       "\\hline\n",
       "\t 0 & 2020 & MI & FT & Data Scientist             &  70000 & EUR &  79833 & DE &   0 & DE & L\\\\\n",
       "\t 1 & 2020 & SE & FT & Machine Learning Scientist & 260000 & USD & 260000 & JP &   0 & JP & S\\\\\n",
       "\t 2 & 2020 & SE & FT & Big Data Engineer          &  85000 & GBP & 109024 & GB &  50 & GB & M\\\\\n",
       "\t 3 & 2020 & MI & FT & Product Data Analyst       &  20000 & USD &  20000 & HN &   0 & HN & S\\\\\n",
       "\t 4 & 2020 & SE & FT & Machine Learning Engineer  & 150000 & USD & 150000 & US &  50 & US & L\\\\\n",
       "\t 5 & 2020 & EN & FT & Data Analyst               &  72000 & USD &  72000 & US & 100 & US & L\\\\\n",
       "\\end{tabular}\n"
      ],
      "text/markdown": [
       "\n",
       "A tibble: 6 × 12\n",
       "\n",
       "| ...1 &lt;dbl&gt; | work_year &lt;dbl&gt; | experience_level &lt;chr&gt; | employment_type &lt;chr&gt; | job_title &lt;chr&gt; | salary &lt;dbl&gt; | salary_currency &lt;chr&gt; | salary_in_usd &lt;dbl&gt; | employee_residence &lt;chr&gt; | remote_ratio &lt;dbl&gt; | company_location &lt;chr&gt; | company_size &lt;chr&gt; |\n",
       "|---|---|---|---|---|---|---|---|---|---|---|---|\n",
       "| 0 | 2020 | MI | FT | Data Scientist             |  70000 | EUR |  79833 | DE |   0 | DE | L |\n",
       "| 1 | 2020 | SE | FT | Machine Learning Scientist | 260000 | USD | 260000 | JP |   0 | JP | S |\n",
       "| 2 | 2020 | SE | FT | Big Data Engineer          |  85000 | GBP | 109024 | GB |  50 | GB | M |\n",
       "| 3 | 2020 | MI | FT | Product Data Analyst       |  20000 | USD |  20000 | HN |   0 | HN | S |\n",
       "| 4 | 2020 | SE | FT | Machine Learning Engineer  | 150000 | USD | 150000 | US |  50 | US | L |\n",
       "| 5 | 2020 | EN | FT | Data Analyst               |  72000 | USD |  72000 | US | 100 | US | L |\n",
       "\n"
      ],
      "text/plain": [
       "  ...1 work_year experience_level employment_type job_title                 \n",
       "1 0    2020      MI               FT              Data Scientist            \n",
       "2 1    2020      SE               FT              Machine Learning Scientist\n",
       "3 2    2020      SE               FT              Big Data Engineer         \n",
       "4 3    2020      MI               FT              Product Data Analyst      \n",
       "5 4    2020      SE               FT              Machine Learning Engineer \n",
       "6 5    2020      EN               FT              Data Analyst              \n",
       "  salary salary_currency salary_in_usd employee_residence remote_ratio\n",
       "1  70000 EUR              79833        DE                   0         \n",
       "2 260000 USD             260000        JP                   0         \n",
       "3  85000 GBP             109024        GB                  50         \n",
       "4  20000 USD              20000        HN                   0         \n",
       "5 150000 USD             150000        US                  50         \n",
       "6  72000 USD              72000        US                 100         \n",
       "  company_location company_size\n",
       "1 DE               L           \n",
       "2 JP               S           \n",
       "3 GB               M           \n",
       "4 HN               S           \n",
       "5 US               L           \n",
       "6 US               L           "
      ]
     },
     "metadata": {},
     "output_type": "display_data"
    }
   ],
   "source": [
    "original_data <- read_csv(\"ds_salaries.csv\")\n",
    "head(original_data)"
   ]
  },
  {
   "cell_type": "code",
   "execution_count": 3,
   "id": "2ecac425-2f01-4032-b68b-7ee1da12ea98",
   "metadata": {},
   "outputs": [
    {
     "data": {
      "text/html": [
       "<table class=\"dataframe\">\n",
       "<caption>A tibble: 6 × 3</caption>\n",
       "<thead>\n",
       "\t<tr><th scope=col>experience_level</th><th scope=col>salary_in_usd</th><th scope=col>remote_ratio</th></tr>\n",
       "\t<tr><th scope=col>&lt;chr&gt;</th><th scope=col>&lt;dbl&gt;</th><th scope=col>&lt;dbl&gt;</th></tr>\n",
       "</thead>\n",
       "<tbody>\n",
       "\t<tr><td>EN</td><td> 72000</td><td>100</td></tr>\n",
       "\t<tr><td>SE</td><td>190000</td><td>100</td></tr>\n",
       "\t<tr><td>MI</td><td>135000</td><td>100</td></tr>\n",
       "\t<tr><td>MI</td><td> 87000</td><td>100</td></tr>\n",
       "\t<tr><td>MI</td><td> 85000</td><td>100</td></tr>\n",
       "\t<tr><td>MI</td><td> 98000</td><td>  0</td></tr>\n",
       "</tbody>\n",
       "</table>\n"
      ],
      "text/latex": [
       "A tibble: 6 × 3\n",
       "\\begin{tabular}{lll}\n",
       " experience\\_level & salary\\_in\\_usd & remote\\_ratio\\\\\n",
       " <chr> & <dbl> & <dbl>\\\\\n",
       "\\hline\n",
       "\t EN &  72000 & 100\\\\\n",
       "\t SE & 190000 & 100\\\\\n",
       "\t MI & 135000 & 100\\\\\n",
       "\t MI &  87000 & 100\\\\\n",
       "\t MI &  85000 & 100\\\\\n",
       "\t MI &  98000 &   0\\\\\n",
       "\\end{tabular}\n"
      ],
      "text/markdown": [
       "\n",
       "A tibble: 6 × 3\n",
       "\n",
       "| experience_level &lt;chr&gt; | salary_in_usd &lt;dbl&gt; | remote_ratio &lt;dbl&gt; |\n",
       "|---|---|---|\n",
       "| EN |  72000 | 100 |\n",
       "| SE | 190000 | 100 |\n",
       "| MI | 135000 | 100 |\n",
       "| MI |  87000 | 100 |\n",
       "| MI |  85000 | 100 |\n",
       "| MI |  98000 |   0 |\n",
       "\n"
      ],
      "text/plain": [
       "  experience_level salary_in_usd remote_ratio\n",
       "1 EN                72000        100         \n",
       "2 SE               190000        100         \n",
       "3 MI               135000        100         \n",
       "4 MI                87000        100         \n",
       "5 MI                85000        100         \n",
       "6 MI                98000          0         "
      ]
     },
     "metadata": {},
     "output_type": "display_data"
    }
   ],
   "source": [
    "# Cleaning the data to only show US residence, 0 and 100 remote ratio \n",
    "# and Full Time employment\n",
    "\n",
    "clean_data <- original_data %>%\n",
    "    filter(!is.na(salary_in_usd),\n",
    "        employee_residence == \"US\",\n",
    "            employment_type == \"FT\", \n",
    "        remote_ratio %in% c(0, 100)) %>%\n",
    "    select(experience_level, salary_in_usd, remote_ratio)\n",
    "\n",
    "head(clean_data)"
   ]
  },
  {
   "cell_type": "code",
   "execution_count": 4,
   "id": "b908d764-b5e6-49d4-82a6-0771b2c13876",
   "metadata": {},
   "outputs": [],
   "source": [
    "#This cell contains different summary data (min, max, median, mean, amount) related to the different groups being explored\n",
    "\n",
    "remote_ratio_0_dist <-\n",
    "    clean_data %>%\n",
    "    filter(remote_ratio == 0)\n",
    "\n",
    "remote_ratio_100_dist <-\n",
    "    clean_data %>%\n",
    "    filter(remote_ratio == 100)\n",
    "\n",
    "remote_ratio_0_median <- remote_ratio_0_dist %>% \n",
    "    summarise(median_0 = median(salary_in_usd)) %>%\n",
    "    pull()\n",
    "\n",
    "remote_ratio_100_median <- remote_ratio_100_dist %>% \n",
    "    summarise(median_100 = median(salary_in_usd)) %>%\n",
    "    pull()\n",
    "\n",
    "remote_ratio_0_mean <- remote_ratio_0_dist %>%\n",
    "    summarise(mean_0 = mean(salary_in_usd)) %>%\n",
    "    pull() %>%\n",
    "    ceiling()\n",
    "\n",
    "remote_ratio_100_mean <- remote_ratio_100_dist %>%\n",
    "    summarise(mean_100 = mean(salary_in_usd)) %>%\n",
    "    pull() %>%\n",
    "    ceiling()\n",
    "\n",
    "remote_ratio_0_min <- remote_ratio_0_dist %>%\n",
    "    summarise(min_0 = min(salary_in_usd)) %>%\n",
    "    pull()\n",
    "\n",
    "\n",
    "remote_ratio_0_max <- remote_ratio_0_dist %>%\n",
    "    summarise(min_0 = max(salary_in_usd)) %>%\n",
    "    pull()\n",
    "\n",
    "remote_ratio_0_amount <- \n",
    "    clean_data %>%\n",
    "    summarise(amount_0 = sum(remote_ratio == 0)) %>%\n",
    "    pull()\n",
    "\n",
    "remote_ratio_100_min <- \n",
    "    clean_data %>%\n",
    "    filter(remote_ratio == 100) %>%\n",
    "    summarise(min_100 = min(salary_in_usd)) %>%\n",
    "    pull()\n",
    "\n",
    "remote_ratio_100_max <- remote_ratio_100_dist %>%\n",
    "    summarise(max_100 = max(salary_in_usd)) %>%\n",
    "    pull()\n",
    "\n",
    "remote_ratio_100_amount <- \n",
    "    clean_data %>%\n",
    "    summarise(amount_100 = sum(remote_ratio == 100)) %>%\n",
    "    pull()\n",
    "\n",
    "overall_mean <-\n",
    "    clean_data %>%\n",
    "    summarise(overall_mean = mean(salary_in_usd)) %>%\n",
    "    pull() %>%\n",
    "    ceiling()\n",
    "\n",
    "overall_median <-\n",
    "    clean_data %>%\n",
    "    summarise(overall_median = median(salary_in_usd)) %>%\n",
    "    pull()\n",
    "\n",
    "overall_min <-\n",
    "    clean_data %>%\n",
    "    summarise(overall_min = min(salary_in_usd)) %>%\n",
    "    pull()\n",
    "\n",
    "overall_max <- \n",
    "    clean_data %>%\n",
    "    summarise(overall_max = max(salary_in_usd)) %>%\n",
    "    pull()\n",
    "\n",
    "overall_amount <- remote_ratio_0_amount + remote_ratio_100_amount\n",
    "\n",
    "remote_ratio_0_quartile_1 <- quantile(pull(remote_ratio_0_dist, salary_in_usd), 0.25)\n",
    "remote_ratio_0_quartile_3 <- quantile(pull(remote_ratio_0_dist, salary_in_usd), 0.75)\n",
    "remote_ratio_100_quartile_1 <- quantile(pull(remote_ratio_100_dist, salary_in_usd), 0.25)\n",
    "remote_ratio_100_quartile_3 <- quantile(pull(remote_ratio_100_dist, salary_in_usd), 0.75)\n",
    "overall_quartile_1 <- quantile(pull(clean_data, salary_in_usd), 0.25)\n",
    "overall_quartile_3 <- quantile(pull(clean_data, salary_in_usd), 0.75)"
   ]
  },
  {
   "cell_type": "code",
   "execution_count": 5,
   "id": "45be4bf8-8cbe-4b2a-80b7-665a33e1db1b",
   "metadata": {},
   "outputs": [],
   "source": [
    "categories <- c(\"remote minority\", \"remote majority\", \"overall\")\n",
    "min <- c(remote_ratio_0_min, remote_ratio_100_min, overall_min)\n",
    "max <- c(remote_ratio_0_max, remote_ratio_100_max, overall_max)\n",
    "mean <- c(remote_ratio_0_mean, remote_ratio_100_mean, overall_mean)\n",
    "median <- c(remote_ratio_0_median, remote_ratio_100_median, overall_median)\n",
    "frequency <- c(remote_ratio_0_amount, remote_ratio_100_amount, overall_amount)\n",
    "first_quartile <- c(remote_ratio_0_quartile_1, remote_ratio_100_quartile_1, overall_quartile_1)\n",
    "third_quartile <- c(remote_ratio_0_quartile_3, remote_ratio_100_quartile_3, overall_quartile_3)\n",
    "\n",
    "ratio_data_frame <- data.frame(categories, min, max, mean, median, first_quartile, third_quartile, frequency)\n",
    "\n",
    "new_table <- formattable(ratio_data_frame, align = c(\"l\", rep(\"r\", NCOL(ratio_data_frame) -1)))"
   ]
  },
  {
   "cell_type": "markdown",
   "id": "55aa4d5c-070d-447f-970e-c741e8cb672d",
   "metadata": {},
   "source": [
    "### Table of Summary Statistics"
   ]
  },
  {
   "cell_type": "code",
   "execution_count": 6,
   "id": "f3529227-2911-4287-bd03-63f06b3ecfe7",
   "metadata": {},
   "outputs": [
    {
     "data": {
      "text/html": [
       "<table class=\"dataframe\">\n",
       "<caption>A formattable: 3 × 8</caption>\n",
       "<thead>\n",
       "\t<tr><th scope=col>categories</th><th scope=col>min</th><th scope=col>max</th><th scope=col>mean</th><th scope=col>median</th><th scope=col>first_quartile</th><th scope=col>third_quartile</th><th scope=col>frequency</th></tr>\n",
       "\t<tr><th scope=col>&lt;chr&gt;</th><th scope=col>&lt;dbl&gt;</th><th scope=col>&lt;dbl&gt;</th><th scope=col>&lt;dbl&gt;</th><th scope=col>&lt;dbl&gt;</th><th scope=col>&lt;dbl&gt;</th><th scope=col>&lt;dbl&gt;</th><th scope=col>&lt;int&gt;</th></tr>\n",
       "</thead>\n",
       "<tbody>\n",
       "\t<tr><td>remote minority</td><td>54000</td><td>450000</td><td>141254</td><td>130000</td><td> 99050</td><td>172500</td><td> 67</td></tr>\n",
       "\t<tr><td>remote majority</td><td>25000</td><td>600000</td><td>150821</td><td>140000</td><td>110000</td><td>175000</td><td>244</td></tr>\n",
       "\t<tr><td>overall        </td><td>25000</td><td>600000</td><td>148760</td><td>140000</td><td>106260</td><td>175000</td><td>311</td></tr>\n",
       "</tbody>\n",
       "</table>\n"
      ],
      "text/latex": [
       "A formattable: 3 × 8\n",
       "\\begin{tabular}{llllllll}\n",
       " categories & min & max & mean & median & first\\_quartile & third\\_quartile & frequency\\\\\n",
       " <chr> & <dbl> & <dbl> & <dbl> & <dbl> & <dbl> & <dbl> & <int>\\\\\n",
       "\\hline\n",
       "\t remote minority & 54000 & 450000 & 141254 & 130000 &  99050 & 172500 &  67\\\\\n",
       "\t remote majority & 25000 & 600000 & 150821 & 140000 & 110000 & 175000 & 244\\\\\n",
       "\t overall         & 25000 & 600000 & 148760 & 140000 & 106260 & 175000 & 311\\\\\n",
       "\\end{tabular}\n"
      ],
      "text/markdown": [
       "\n",
       "A formattable: 3 × 8\n",
       "\n",
       "| categories &lt;chr&gt; | min &lt;dbl&gt; | max &lt;dbl&gt; | mean &lt;dbl&gt; | median &lt;dbl&gt; | first_quartile &lt;dbl&gt; | third_quartile &lt;dbl&gt; | frequency &lt;int&gt; |\n",
       "|---|---|---|---|---|---|---|---|\n",
       "| remote minority | 54000 | 450000 | 141254 | 130000 |  99050 | 172500 |  67 |\n",
       "| remote majority | 25000 | 600000 | 150821 | 140000 | 110000 | 175000 | 244 |\n",
       "| overall         | 25000 | 600000 | 148760 | 140000 | 106260 | 175000 | 311 |\n",
       "\n"
      ],
      "text/plain": [
       "  categories      min   max    mean   median first_quartile third_quartile\n",
       "1 remote minority 54000 450000 141254 130000  99050         172500        \n",
       "2 remote majority 25000 600000 150821 140000 110000         175000        \n",
       "3 overall         25000 600000 148760 140000 106260         175000        \n",
       "  frequency\n",
       "1  67      \n",
       "2 244      \n",
       "3 311      "
      ]
     },
     "metadata": {},
     "output_type": "display_data"
    }
   ],
   "source": [
    "new_table"
   ]
  },
  {
   "cell_type": "code",
   "execution_count": 7,
   "id": "f6d2c214-a509-4404-bfc1-c7d4429532fa",
   "metadata": {},
   "outputs": [],
   "source": [
    "remote_ratio_0_plot <-\n",
    "    remote_ratio_0_dist %>%\n",
    "    ggplot(aes(x = salary_in_usd/1000)) + \n",
    "    geom_histogram(binwidth = 20, color=\"white\", fill=\"darkgoldenrod1\") +\n",
    "    geom_vline(xintercept = remote_ratio_0_median/1000, color=\"red\", size=2) +\n",
    "    xlab(\"salary in thousands of USD\") +\n",
    "    ggtitle(\"Salaries of Professionals in Remote Minority Workplaces\")\n",
    "\n",
    "remote_ratio_100_plot <-\n",
    "    remote_ratio_100_dist %>%\n",
    "    ggplot(aes(x = salary_in_usd/1000)) + \n",
    "    geom_histogram(binwidth = 20, color=\"white\", fill=\"aquamarine3\") +\n",
    "    geom_vline(xintercept = remote_ratio_100_median/1000, color=\"red\", size=2) +\n",
    "    xlab(\"salary in thousands of USD\") +\n",
    "    ggtitle(\"Salaries of Professionals in Remote Majority Workplaces\")\n",
    "\n",
    "\n",
    "overall_plot <-\n",
    "    clean_data %>%\n",
    "    ggplot(aes(x = salary_in_usd/1000)) +\n",
    "    geom_histogram(binwidth = 20, color=\"white\", fill=\"skyblue\") +\n",
    "    geom_vline(xintercept = overall_median/1000, color=\"red\", size=2) +\n",
    "    xlab(\"salary in thousands of USD\") +\n",
    "    ggtitle(\"Salary Distribution of Data Science Professionals\")"
   ]
  },
  {
   "cell_type": "markdown",
   "id": "1c601d87-1d89-4262-9907-2dd562cacec3",
   "metadata": {},
   "source": [
    "### Histograms Illustrating Distributions of Salary"
   ]
  },
  {
   "cell_type": "code",
   "execution_count": 8,
   "id": "cae0d27b-6a96-46c0-aaef-4ecb47d9ad7b",
   "metadata": {},
   "outputs": [
    {
     "data": {
      "image/png": "[encoded data removed]",
      "text/plain": [
       "plot without title"
      ]
     },
     "metadata": {
      "image/png": {
       "height": 420,
       "width": 420
      }
     },
     "output_type": "display_data"
    },
    {
     "data": {
      "image/png": "[encoded data removed]",
      "text/plain": [
       "plot without title"
      ]
     },
     "metadata": {
      "image/png": {
       "height": 420,
       "width": 420
      }
     },
     "output_type": "display_data"
    },
    {
     "data": {
      "image/png": "[encoded data removed]",
      "text/plain": [
       "plot without title"
      ]
     },
     "metadata": {
      "image/png": {
       "height": 420,
       "width": 420
      }
     },
     "output_type": "display_data"
    }
   ],
   "source": [
    "overall_plot\n",
    "remote_ratio_0_plot\n",
    "remote_ratio_100_plot"
   ]
  },
  {
   "cell_type": "code",
   "execution_count": 9,
   "id": "0b425342-3efb-46d9-9050-480ca221d716",
   "metadata": {},
   "outputs": [],
   "source": [
    "# Boxplots of the data for ease of comparison\n",
    "\n",
    "clean_data$remote_predominance <- factor(clean_data$remote_ratio,\n",
    "                                levels=c(0, 100),\n",
    "                                labels=c(\"remote minority\", \"remote majority\"))\n",
    "\n",
    "remote_ratio_boxplot <- \n",
    "    clean_data %>%\n",
    "    ggplot(aes(y = salary_in_usd/1000, x = remote_predominance, fill=remote_predominance)) +\n",
    "    geom_boxplot() +\n",
    "    coord_cartesian(ylim = c(20, 600)) + \n",
    "    xlab(\"category of workplace (remote minority vs majority)\") +\n",
    "    ylab(\"salary (in thousands of US$)\") +\n",
    "    ggtitle(\"Salary Distribution for Data Science Professionals by Remote Category\")"
   ]
  },
  {
   "cell_type": "markdown",
   "id": "74714b15-c563-4e44-b812-5a6e40b9e15d",
   "metadata": {},
   "source": [
    "### Boxplot of Salary Distribution by Remote Category"
   ]
  },
  {
   "cell_type": "code",
   "execution_count": 10,
   "id": "8432b91d-8e59-4583-9190-c19debbc94ea",
   "metadata": {},
   "outputs": [
    {
     "data": {
      "image/png": "[encoded data removed]",
      "text/plain": [
       "plot without title"
      ]
     },
     "metadata": {
      "image/png": {
       "height": 420,
       "width": 420
      }
     },
     "output_type": "display_data"
    }
   ],
   "source": [
    "remote_ratio_boxplot"
   ]
  },
  {
   "cell_type": "markdown",
   "id": "c5228e0a",
   "metadata": {},
   "source": [
    "### METHODS"
   ]
  },
  {
   "cell_type": "markdown",
   "id": "db0a9219",
   "metadata": {},
   "source": [
    "Information within the dataset is self-reported, hence there is potential for selection bias.  However, because the submissions are anonymous, overall we may rely on the truthfulness of the submissions.  The data provides a reasonable number of observations (approximately 350) and is current (from 2020 to 2022). \n",
    "\n",
    "Importantly, the Central Limit Theorem appears to hold, hence statistical inference may be utilized.  This is because: \n",
    "(1) each analyzed group has more than 30 observations, \n",
    "(2) our sample has less than 10% of the total number of full-time data scientists in the US (estimated at approximately 20,000) and, \n",
    "(3) notwithstanding selection bias discussed above, the sample is reasonably random. \n",
    " \n",
    "Performing a preliminary investigation, USD 140,000 was obtained as an estimate for the median income of full-time US Data Science professionals.  Our investigation also found that the median income for those working in remote-majority offices is USD 140,000 whereas the median income for those in remote-minority offices is USD 130,000.  On the basis of this preliminary investigation, it appears professionals in remote-majority workplaces can expect a higher salary than their remote-minority counterparts.\n",
    " \n",
    "However, noting the two groups have substantial overlap in their interquartile range, that their medians are close to each other, and the presence of randomness and other confounding factors, this assessment is not sufficient to make definite conclusions on median salaries.  We will thus utilize bootstrapping of the sample to produce a 90% confidence interval of the estimated median salary for full time Data Science professionals working in the US.\n",
    " \n",
    "In addition, we will conduct a hypothesis test (10% significance level) to further investigate whether there is a true difference in median salaries, with our null hypothesis being that there is no difference in median pay between Data Science professionals employed remotely-majority compared to remote-minority offices.  Our alternative hypothesis is that there is a difference in median income between these two groups.\n",
    " \n",
    "We expect to find a statistically significant difference in the true median income between remote vs non-remote working Data Science professionals. We hope this investigation will assist those Data Science professionals entering the field to better assess their income opportunities. Additionally, considering remote employees have reported to be significantly happier than their non-remote counterparts (Elshaiekh et al., 2018), we hope this report will provide the salary insights necessary to inform decisions whether to pursue a remote vs non-remote career. Future questions would likely include whether confounding factors influenced differences in median salary observed and salary trends."
   ]
  },
  {
   "cell_type": "markdown",
   "id": "65808ea8",
   "metadata": {},
   "source": [
    "### REFERENCES"
   ]
  },
  {
   "cell_type": "markdown",
   "id": "30e5e7a1",
   "metadata": {},
   "source": [
    "Bhatia, R, (2022), Data Science Job Salaries, [Data set]. Kaggle. https://www.kaggle.com/datasets/ruchi798/data-science-job-salaries. \n",
    "\n",
    "Data Science Jobs Guide: Resources for a Career in Tech. (2022, July 21). Coursera. https://www.coursera.org/articles/data-science-jobs.\n",
    "\n",
    "Elshaiekh, N. E. M., Hassan, Y. A. A., & Abdallah, A. A. A. (2018). The Impacts of Remote Working on Workers Performance. 2018 International Arab Conference on Information Technology (ACIT), 1–5. https://doi.org/10.1109/ACIT.2018.8672704\n",
    "\n",
    "Ozimek, A. (2020). The Future of Remote Work. SSRN Electronic Journal. https://doi.org/10.2139/ssrn.3638597.\n",
    "\n",
    "Zaire, C. (2021, November 8). Is Data Science Still a Rising Career in 2021. Towards Data Science. https://towardsdatascience.com/is-data-science-still-a-rising-career-in-2021-722281f7074c."
   ]
  },
  {
   "cell_type": "markdown",
   "id": "6f331536-b83e-49b5-8e90-58bf01788996",
   "metadata": {},
   "source": [
    "# Bootstrap Distributions and Confidence Intervals"
   ]
  },
  {
   "cell_type": "code",
   "execution_count": 11,
   "id": "f18ac556-8706-4ccd-b552-609f700b1a5b",
   "metadata": {},
   "outputs": [],
   "source": [
    "# create bootstrap distribution for all datascience professionals"
   ]
  },
  {
   "cell_type": "code",
   "execution_count": 12,
   "id": "660362b7-f08d-4a14-91fe-3220b4d9e470",
   "metadata": {},
   "outputs": [],
   "source": [
    "ds_workers <- original_data %>%\n",
    "    filter(!is.na(salary_in_usd),\n",
    "        employee_residence == \"US\",\n",
    "            employment_type == \"FT\") %>%\n",
    "    select(experience_level, salary_in_usd, remote_ratio)"
   ]
  },
  {
   "cell_type": "code",
   "execution_count": 13,
   "id": "f1bc8b05-1ef6-47a2-ac92-acddaa4acba2",
   "metadata": {},
   "outputs": [
    {
     "data": {
      "text/html": [
       "<table class=\"dataframe\">\n",
       "<caption>A tibble: 6 × 2</caption>\n",
       "<thead>\n",
       "\t<tr><th scope=col>replicate</th><th scope=col>stat</th></tr>\n",
       "\t<tr><th scope=col>&lt;int&gt;</th><th scope=col>&lt;dbl&gt;</th></tr>\n",
       "</thead>\n",
       "<tbody>\n",
       "\t<tr><td>1</td><td>140000.0</td></tr>\n",
       "\t<tr><td>2</td><td>140000.0</td></tr>\n",
       "\t<tr><td>3</td><td>136300.0</td></tr>\n",
       "\t<tr><td>4</td><td>136807.0</td></tr>\n",
       "\t<tr><td>5</td><td>137745.5</td></tr>\n",
       "\t<tr><td>6</td><td>140000.0</td></tr>\n",
       "</tbody>\n",
       "</table>\n"
      ],
      "text/latex": [
       "A tibble: 6 × 2\n",
       "\\begin{tabular}{ll}\n",
       " replicate & stat\\\\\n",
       " <int> & <dbl>\\\\\n",
       "\\hline\n",
       "\t 1 & 140000.0\\\\\n",
       "\t 2 & 140000.0\\\\\n",
       "\t 3 & 136300.0\\\\\n",
       "\t 4 & 136807.0\\\\\n",
       "\t 5 & 137745.5\\\\\n",
       "\t 6 & 140000.0\\\\\n",
       "\\end{tabular}\n"
      ],
      "text/markdown": [
       "\n",
       "A tibble: 6 × 2\n",
       "\n",
       "| replicate &lt;int&gt; | stat &lt;dbl&gt; |\n",
       "|---|---|\n",
       "| 1 | 140000.0 |\n",
       "| 2 | 140000.0 |\n",
       "| 3 | 136300.0 |\n",
       "| 4 | 136807.0 |\n",
       "| 5 | 137745.5 |\n",
       "| 6 | 140000.0 |\n",
       "\n"
      ],
      "text/plain": [
       "  replicate stat    \n",
       "1 1         140000.0\n",
       "2 2         140000.0\n",
       "3 3         136300.0\n",
       "4 4         136807.0\n",
       "5 5         137745.5\n",
       "6 6         140000.0"
      ]
     },
     "metadata": {},
     "output_type": "display_data"
    }
   ],
   "source": [
    "ds_workers_median <- 140000/1000\n",
    "\n",
    "ds_workers_bootstrap_dist <-\n",
    "    ds_workers %>%\n",
    "    specify(response = salary_in_usd) %>%\n",
    "    generate(type=\"bootstrap\", reps = 5000) %>%\n",
    "    calculate(stat = \"median\")\n",
    "\n",
    "head(ds_workers_bootstrap_dist)"
   ]
  },
  {
   "cell_type": "code",
   "execution_count": 14,
   "id": "671ca2fa-1ba9-4d1e-9485-b95de704882f",
   "metadata": {},
   "outputs": [
    {
     "data": {
      "text/html": [
       "<table class=\"dataframe\">\n",
       "<caption>A tibble: 1 × 2</caption>\n",
       "<thead>\n",
       "\t<tr><th scope=col>lower_ci1</th><th scope=col>upper_ci1</th></tr>\n",
       "\t<tr><th scope=col>&lt;dbl&gt;</th><th scope=col>&lt;dbl&gt;</th></tr>\n",
       "</thead>\n",
       "<tbody>\n",
       "\t<tr><td>135</td><td>144</td></tr>\n",
       "</tbody>\n",
       "</table>\n"
      ],
      "text/latex": [
       "A tibble: 1 × 2\n",
       "\\begin{tabular}{ll}\n",
       " lower\\_ci1 & upper\\_ci1\\\\\n",
       " <dbl> & <dbl>\\\\\n",
       "\\hline\n",
       "\t 135 & 144\\\\\n",
       "\\end{tabular}\n"
      ],
      "text/markdown": [
       "\n",
       "A tibble: 1 × 2\n",
       "\n",
       "| lower_ci1 &lt;dbl&gt; | upper_ci1 &lt;dbl&gt; |\n",
       "|---|---|\n",
       "| 135 | 144 |\n",
       "\n"
      ],
      "text/plain": [
       "  lower_ci1 upper_ci1\n",
       "1 135       144      "
      ]
     },
     "metadata": {},
     "output_type": "display_data"
    }
   ],
   "source": [
    "ds_workers_ci <-\n",
    "    ds_workers_bootstrap_dist %>%\n",
    "    get_confidence_interval(level = 0.90, type = \"percentile\")\n",
    "\n",
    "#ds_workers_ci\n",
    "\n",
    "ds_workers_ci1 <- ds_workers_ci %>%\n",
    "                  tibble(lower_ci1 = ds_workers_ci[[1]]/1000,  upper_ci1 = ds_workers_ci[[2]]/1000)%>%\n",
    "                  select(lower_ci1, upper_ci1)\n",
    "\n",
    "ds_workers_ci1 "
   ]
  },
  {
   "cell_type": "code",
   "execution_count": 15,
   "id": "481ff4b6-d69c-4c10-b684-244b49374543",
   "metadata": {},
   "outputs": [
    {
     "data": {
      "image/png": "[encoded data removed]",
      "text/plain": [
       "plot without title"
      ]
     },
     "metadata": {
      "image/png": {
       "height": 420,
       "width": 420
      }
     },
     "output_type": "display_data"
    }
   ],
   "source": [
    "ds_workers_bootstrap_plot <-\n",
    "    ds_workers_bootstrap_dist %>%\n",
    "    ggplot(aes(x = stat/1000)) +\n",
    "    geom_histogram(binwidth = 5, color=\"white\", fill=\"darkblue\" ) +\n",
    "    geom_vline(size = 2, xintercept = ds_workers_median, color=\"red\") +\n",
    "    shade_confidence_interval(ds_workers_ci1, fill = \"lightblue\") +\n",
    "    #geom_vline(size = 2, xintercept = ds_workers_ci[[1]]/1000, color=\"pink\") +\n",
    "    #geom_vline(size = 2, xintercept = ds_workers_ci[[2]]/1000, color=\"pink\") +\n",
    "    xlab(\"median salary in thousands of usd\") +\n",
    "    ggtitle(\"Bootstrap Distribution of Median Salary for Data Scientists\")\n",
    "\n",
    "ds_workers_bootstrap_plot"
   ]
  },
  {
   "cell_type": "code",
   "execution_count": 16,
   "id": "f41ee3f3-856b-42e2-a667-6a48fc06b99d",
   "metadata": {},
   "outputs": [
    {
     "data": {
      "text/html": [
       "<table class=\"dataframe\">\n",
       "<caption>A tibble: 6 × 2</caption>\n",
       "<thead>\n",
       "\t<tr><th scope=col>replicate</th><th scope=col>stat</th></tr>\n",
       "\t<tr><th scope=col>&lt;int&gt;</th><th scope=col>&lt;dbl&gt;</th></tr>\n",
       "</thead>\n",
       "<tbody>\n",
       "\t<tr><td>1</td><td>115934</td></tr>\n",
       "\t<tr><td>2</td><td>136000</td></tr>\n",
       "\t<tr><td>3</td><td>150000</td></tr>\n",
       "\t<tr><td>4</td><td>140400</td></tr>\n",
       "\t<tr><td>5</td><td>136000</td></tr>\n",
       "\t<tr><td>6</td><td>140400</td></tr>\n",
       "</tbody>\n",
       "</table>\n"
      ],
      "text/latex": [
       "A tibble: 6 × 2\n",
       "\\begin{tabular}{ll}\n",
       " replicate & stat\\\\\n",
       " <int> & <dbl>\\\\\n",
       "\\hline\n",
       "\t 1 & 115934\\\\\n",
       "\t 2 & 136000\\\\\n",
       "\t 3 & 150000\\\\\n",
       "\t 4 & 140400\\\\\n",
       "\t 5 & 136000\\\\\n",
       "\t 6 & 140400\\\\\n",
       "\\end{tabular}\n"
      ],
      "text/markdown": [
       "\n",
       "A tibble: 6 × 2\n",
       "\n",
       "| replicate &lt;int&gt; | stat &lt;dbl&gt; |\n",
       "|---|---|\n",
       "| 1 | 115934 |\n",
       "| 2 | 136000 |\n",
       "| 3 | 150000 |\n",
       "| 4 | 140400 |\n",
       "| 5 | 136000 |\n",
       "| 6 | 140400 |\n",
       "\n"
      ],
      "text/plain": [
       "  replicate stat  \n",
       "1 1         115934\n",
       "2 2         136000\n",
       "3 3         150000\n",
       "4 4         140400\n",
       "5 5         136000\n",
       "6 6         140400"
      ]
     },
     "metadata": {},
     "output_type": "display_data"
    }
   ],
   "source": [
    "# create a bootstrap distribution for remote_ratio_0_dist\n",
    "\n",
    "remote_0_median <- 130000/1000\n",
    "\n",
    "remote_0_bootstrap_dist <- \n",
    "    remote_ratio_0_dist %>%\n",
    "    specify(response = salary_in_usd) %>%\n",
    "    generate(type = \"bootstrap\", reps = 5000) %>%\n",
    "    calculate(stat = \"median\")\n",
    "\n",
    "head(remote_0_bootstrap_dist)"
   ]
  },
  {
   "cell_type": "code",
   "execution_count": 17,
   "id": "b92863bc-70ad-4efa-9406-49d4c87d0070",
   "metadata": {},
   "outputs": [
    {
     "data": {
      "text/html": [
       "<table class=\"dataframe\">\n",
       "<caption>A tibble: 1 × 2</caption>\n",
       "<thead>\n",
       "\t<tr><th scope=col>lower_ci1</th><th scope=col>upper_ci1</th></tr>\n",
       "\t<tr><th scope=col>&lt;dbl&gt;</th><th scope=col>&lt;dbl&gt;</th></tr>\n",
       "</thead>\n",
       "<tbody>\n",
       "\t<tr><td>116</td><td>140.4</td></tr>\n",
       "</tbody>\n",
       "</table>\n"
      ],
      "text/latex": [
       "A tibble: 1 × 2\n",
       "\\begin{tabular}{ll}\n",
       " lower\\_ci1 & upper\\_ci1\\\\\n",
       " <dbl> & <dbl>\\\\\n",
       "\\hline\n",
       "\t 116 & 140.4\\\\\n",
       "\\end{tabular}\n"
      ],
      "text/markdown": [
       "\n",
       "A tibble: 1 × 2\n",
       "\n",
       "| lower_ci1 &lt;dbl&gt; | upper_ci1 &lt;dbl&gt; |\n",
       "|---|---|\n",
       "| 116 | 140.4 |\n",
       "\n"
      ],
      "text/plain": [
       "  lower_ci1 upper_ci1\n",
       "1 116       140.4    "
      ]
     },
     "metadata": {},
     "output_type": "display_data"
    }
   ],
   "source": [
    "remote_0_ci <-\n",
    "    remote_0_bootstrap_dist %>%\n",
    "    get_confidence_interval(level = 0.90, type=\"percentile\")\n",
    "\n",
    "#remote_0_ci\n",
    "\n",
    "remote_0_ci1 <- remote_0_ci %>%\n",
    "                tibble(lower_ci1 =  remote_0_ci[[1]]/1000, upper_ci1 = remote_0_ci[[2]]/1000) %>%\n",
    "                select(lower_ci1, upper_ci1)\n",
    "remote_0_ci1"
   ]
  },
  {
   "cell_type": "code",
   "execution_count": 18,
   "id": "6990567e-bdaf-4445-b39a-9dd19173a117",
   "metadata": {},
   "outputs": [
    {
     "data": {
      "image/png": "[encoded data removed]",
      "text/plain": [
       "plot without title"
      ]
     },
     "metadata": {
      "image/png": {
       "height": 420,
       "width": 420
      }
     },
     "output_type": "display_data"
    }
   ],
   "source": [
    "remote_0_bootstrap_plot <-\n",
    "    remote_0_bootstrap_dist %>%\n",
    "    ggplot(aes(x = stat/1000)) +\n",
    "    geom_histogram(binwidth = 5, color=\"white\", fill=\"darkblue\" ) +\n",
    "    geom_vline(size = 2, xintercept = remote_0_median, color=\"red\") +\n",
    "    shade_confidence_interval(remote_0_ci1, fill=\"lightblue\") +\n",
    "    #geom_vline(xintercept = remote_0_ci[[1]]/1000, color=\"pink\") +\n",
    "    #geom_vline(xintercept = remote_0_ci[[2]]/1000, color=\"pink\") +\n",
    "    xlab(\"median salary in thousands of usd\") +\n",
    "    ggtitle(\"Bootstrap Distribution of Median Salary for Remote Minority Group\")\n",
    "\n",
    "remote_0_bootstrap_plot"
   ]
  },
  {
   "cell_type": "code",
   "execution_count": 19,
   "id": "68f361fb-13c6-418a-b1ae-481ceee6e909",
   "metadata": {},
   "outputs": [
    {
     "data": {
      "text/html": [
       "<table class=\"dataframe\">\n",
       "<caption>A tibble: 6 × 2</caption>\n",
       "<thead>\n",
       "\t<tr><th scope=col>replicate</th><th scope=col>stat</th></tr>\n",
       "\t<tr><th scope=col>&lt;int&gt;</th><th scope=col>&lt;dbl&gt;</th></tr>\n",
       "</thead>\n",
       "<tbody>\n",
       "\t<tr><td>1</td><td>140000</td></tr>\n",
       "\t<tr><td>2</td><td>144927</td></tr>\n",
       "\t<tr><td>3</td><td>144854</td></tr>\n",
       "\t<tr><td>4</td><td>142000</td></tr>\n",
       "\t<tr><td>5</td><td>140000</td></tr>\n",
       "\t<tr><td>6</td><td>140000</td></tr>\n",
       "</tbody>\n",
       "</table>\n"
      ],
      "text/latex": [
       "A tibble: 6 × 2\n",
       "\\begin{tabular}{ll}\n",
       " replicate & stat\\\\\n",
       " <int> & <dbl>\\\\\n",
       "\\hline\n",
       "\t 1 & 140000\\\\\n",
       "\t 2 & 144927\\\\\n",
       "\t 3 & 144854\\\\\n",
       "\t 4 & 142000\\\\\n",
       "\t 5 & 140000\\\\\n",
       "\t 6 & 140000\\\\\n",
       "\\end{tabular}\n"
      ],
      "text/markdown": [
       "\n",
       "A tibble: 6 × 2\n",
       "\n",
       "| replicate &lt;int&gt; | stat &lt;dbl&gt; |\n",
       "|---|---|\n",
       "| 1 | 140000 |\n",
       "| 2 | 144927 |\n",
       "| 3 | 144854 |\n",
       "| 4 | 142000 |\n",
       "| 5 | 140000 |\n",
       "| 6 | 140000 |\n",
       "\n"
      ],
      "text/plain": [
       "  replicate stat  \n",
       "1 1         140000\n",
       "2 2         144927\n",
       "3 3         144854\n",
       "4 4         142000\n",
       "5 5         140000\n",
       "6 6         140000"
      ]
     },
     "metadata": {},
     "output_type": "display_data"
    }
   ],
   "source": [
    "# create a bootstrap distribution for remote_ratio_100_dist\n",
    "\n",
    "remote_100_median <- 140000/1000\n",
    "\n",
    "remote_100_bootstrap_dist <- \n",
    "    remote_ratio_100_dist %>%\n",
    "    specify(response = salary_in_usd) %>%\n",
    "    generate(type = \"bootstrap\", reps = 5000) %>%\n",
    "    calculate(stat = \"median\")\n",
    "\n",
    "head(remote_100_bootstrap_dist)"
   ]
  },
  {
   "cell_type": "code",
   "execution_count": 20,
   "id": "051bc458-2c46-422d-a941-47fd29372c14",
   "metadata": {},
   "outputs": [
    {
     "data": {
      "text/html": [
       "<table class=\"dataframe\">\n",
       "<caption>A tibble: 1 × 2</caption>\n",
       "<thead>\n",
       "\t<tr><th scope=col>lower_ci1</th><th scope=col>upper_ci1</th></tr>\n",
       "\t<tr><th scope=col>&lt;dbl&gt;</th><th scope=col>&lt;dbl&gt;</th></tr>\n",
       "</thead>\n",
       "<tbody>\n",
       "\t<tr><td>135</td><td>150</td></tr>\n",
       "</tbody>\n",
       "</table>\n"
      ],
      "text/latex": [
       "A tibble: 1 × 2\n",
       "\\begin{tabular}{ll}\n",
       " lower\\_ci1 & upper\\_ci1\\\\\n",
       " <dbl> & <dbl>\\\\\n",
       "\\hline\n",
       "\t 135 & 150\\\\\n",
       "\\end{tabular}\n"
      ],
      "text/markdown": [
       "\n",
       "A tibble: 1 × 2\n",
       "\n",
       "| lower_ci1 &lt;dbl&gt; | upper_ci1 &lt;dbl&gt; |\n",
       "|---|---|\n",
       "| 135 | 150 |\n",
       "\n"
      ],
      "text/plain": [
       "  lower_ci1 upper_ci1\n",
       "1 135       150      "
      ]
     },
     "metadata": {},
     "output_type": "display_data"
    }
   ],
   "source": [
    "remote_100_ci <-\n",
    "    remote_100_bootstrap_dist %>%\n",
    "    get_confidence_interval(level = 0.90, type=\"percentile\")\n",
    "\n",
    "remote_100_ci1 <-\n",
    "    remote_100_ci %>%\n",
    "    tibble(lower_ci1 = remote_100_ci[[1]]/1000, upper_ci1 = remote_100_ci[[2]]/1000)%>%\n",
    "    select(lower_ci1, upper_ci1)\n",
    "\n",
    "remote_100_ci1"
   ]
  },
  {
   "cell_type": "code",
   "execution_count": 21,
   "id": "a73c97cb-2df0-4c66-a76e-2cade6c37f18",
   "metadata": {},
   "outputs": [
    {
     "data": {
      "image/png": "[encoded data removed]",
      "text/plain": [
       "plot without title"
      ]
     },
     "metadata": {
      "image/png": {
       "height": 420,
       "width": 420
      }
     },
     "output_type": "display_data"
    }
   ],
   "source": [
    "remote_100_bootstrap_plot <-\n",
    "    remote_100_bootstrap_dist %>%\n",
    "    ggplot(aes(x = stat/1000)) +\n",
    "    geom_histogram(binwidth = 5, color=\"white\", fill=\"darkblue\" ) +\n",
    "    geom_vline(size = 2, xintercept = remote_100_median, color=\"red\") +\n",
    "    shade_confidence_interval(remote_100_ci1, fill=\"lightblue\") +\n",
    "    #geom_vline(xintercept = remote_100_ci[[1]]/1000, color=\"pink\") +\n",
    "    #geom_vline(xintercept = remote_100_ci[[2]]/1000, color=\"pink\") +\n",
    "    xlab(\"median salary in thousands of usd\") +\n",
    "    ggtitle(\"Bootstrap Distribution of Median Salary for Remote Majority Group\")\n",
    "\n",
    "remote_100_bootstrap_plot"
   ]
  },
  {
   "cell_type": "markdown",
   "id": "59b47563-11c7-4dc4-9a2e-d2058826bda5",
   "metadata": {},
   "source": [
    "### Hypothesis Test: Set Up and Discussion"
   ]
  },
  {
   "cell_type": "markdown",
   "id": "fb773d39-77ba-47d5-ba54-3f8cd0d6ee5b",
   "metadata": {},
   "source": [
    "Null Hypothesis: remote_0 and remote_100 groups have the same median income for full time profesionals.\n",
    "\n",
    "Alternative Hypothesis: remote_0 and remote_100 groups have different median income for full time professionals.\n",
    "\n",
    "Significance level is set to 10% (i.e. value of alpha). \n",
    "Justify this selection of alpha.\n",
    "\n",
    "Type I error consequence: (incorrectly reject hypothesis that they make the same median income) --> readers of the report may aggressively choose one mode of working over the other (i.e. remote vs non-remote) in the belief that their compensation will be higher, compromising preferences on other aspects of a job due to this belief and perhaps having lower overall career satisfaction as a result of this mistaken belief. \n",
    "\n",
    "Type II error consequence: (incorrectly fail to reject hypothesis that they make the same median income) --> readers will not be informed of the potential opportunity cost of choosing one work mode over another in their career. \n",
    "\n",
    "From a risk management perspective, which type of error is preferable to make? "
   ]
  },
  {
   "cell_type": "markdown",
   "id": "a8dfad74-8b60-4a20-99fd-7e67f25bd175",
   "metadata": {},
   "source": [
    "### Hypothesis Test: Comparing Remote-min Remote-maj"
   ]
  },
  {
   "cell_type": "code",
   "execution_count": 22,
   "id": "97d04c45-1698-47a1-aaa7-561e9a2be790",
   "metadata": {},
   "outputs": [
    {
     "data": {
      "text/html": [
       "<table class=\"dataframe\">\n",
       "<caption>A tibble: 1 × 1</caption>\n",
       "<thead>\n",
       "\t<tr><th scope=col>stat</th></tr>\n",
       "\t<tr><th scope=col>&lt;dbl&gt;</th></tr>\n",
       "</thead>\n",
       "<tbody>\n",
       "\t<tr><td>10</td></tr>\n",
       "</tbody>\n",
       "</table>\n"
      ],
      "text/latex": [
       "A tibble: 1 × 1\n",
       "\\begin{tabular}{l}\n",
       " stat\\\\\n",
       " <dbl>\\\\\n",
       "\\hline\n",
       "\t 10\\\\\n",
       "\\end{tabular}\n"
      ],
      "text/markdown": [
       "\n",
       "A tibble: 1 × 1\n",
       "\n",
       "| stat &lt;dbl&gt; |\n",
       "|---|\n",
       "| 10 |\n",
       "\n"
      ],
      "text/plain": [
       "  stat\n",
       "1 10  "
      ]
     },
     "metadata": {},
     "output_type": "display_data"
    }
   ],
   "source": [
    "# Modified clean_data so that remote_ratio column changed from numeric data to factor data\n",
    "# this then allows it to be used in infer.\n",
    "\n",
    "#class(clean_data$remote_ratio)\n",
    "\n",
    "clean_data$remote_ratio <- as.factor(clean_data$remote_ratio)\n",
    "\n",
    "#class(clean_data$remote_ratio)\n",
    "\n",
    "obs_diff_in_medians <- \n",
    "    clean_data %>%\n",
    "    specify(formula = salary_in_usd ~ remote_ratio) %>%\n",
    "    calculate(stat = \"diff in medians\", order = c(100, 0))%>%\n",
    "    mutate(stat = stat / 1000)\n",
    "\n",
    "obs_diff_in_medians"
   ]
  },
  {
   "cell_type": "code",
   "execution_count": 23,
   "id": "bb6744ac-3700-4c05-a8c0-54e7ec324644",
   "metadata": {},
   "outputs": [
    {
     "data": {
      "text/html": [
       "<table class=\"dataframe\">\n",
       "<caption>A tibble: 6 × 2</caption>\n",
       "<thead>\n",
       "\t<tr><th scope=col>replicate</th><th scope=col>stat</th></tr>\n",
       "\t<tr><th scope=col>&lt;int&gt;</th><th scope=col>&lt;dbl&gt;</th></tr>\n",
       "</thead>\n",
       "<tbody>\n",
       "\t<tr><td>1</td><td>  5.000</td></tr>\n",
       "\t<tr><td>2</td><td> -0.825</td></tr>\n",
       "\t<tr><td>3</td><td>  2.000</td></tr>\n",
       "\t<tr><td>4</td><td>  7.805</td></tr>\n",
       "\t<tr><td>5</td><td> 10.400</td></tr>\n",
       "\t<tr><td>6</td><td>-10.993</td></tr>\n",
       "</tbody>\n",
       "</table>\n"
      ],
      "text/latex": [
       "A tibble: 6 × 2\n",
       "\\begin{tabular}{ll}\n",
       " replicate & stat\\\\\n",
       " <int> & <dbl>\\\\\n",
       "\\hline\n",
       "\t 1 &   5.000\\\\\n",
       "\t 2 &  -0.825\\\\\n",
       "\t 3 &   2.000\\\\\n",
       "\t 4 &   7.805\\\\\n",
       "\t 5 &  10.400\\\\\n",
       "\t 6 & -10.993\\\\\n",
       "\\end{tabular}\n"
      ],
      "text/markdown": [
       "\n",
       "A tibble: 6 × 2\n",
       "\n",
       "| replicate &lt;int&gt; | stat &lt;dbl&gt; |\n",
       "|---|---|\n",
       "| 1 |   5.000 |\n",
       "| 2 |  -0.825 |\n",
       "| 3 |   2.000 |\n",
       "| 4 |   7.805 |\n",
       "| 5 |  10.400 |\n",
       "| 6 | -10.993 |\n",
       "\n"
      ],
      "text/plain": [
       "  replicate stat   \n",
       "1 1           5.000\n",
       "2 2          -0.825\n",
       "3 3           2.000\n",
       "4 4           7.805\n",
       "5 5          10.400\n",
       "6 6         -10.993"
      ]
     },
     "metadata": {},
     "output_type": "display_data"
    }
   ],
   "source": [
    "# Null model will now be created\n",
    "set.seed(50)\n",
    "\n",
    "null_model<-\n",
    "    clean_data %>%\n",
    "    specify(formula = salary_in_usd ~ remote_ratio) %>%\n",
    "    hypothesize(null = \"independence\") %>%\n",
    "    generate(reps = 10000, type = \"permute\") %>%\n",
    "    calculate(stat = \"diff in medians\", order = c(100, 0))%>%\n",
    "    mutate(stat = stat / 1000)\n",
    "\n",
    "head(null_model)"
   ]
  },
  {
   "cell_type": "code",
   "execution_count": 24,
   "id": "8db40df6-1428-497f-9fd6-58dcb51026d2",
   "metadata": {},
   "outputs": [
    {
     "data": {
      "image/png": "[encoded data removed]",
      "text/plain": [
       "plot without title"
      ]
     },
     "metadata": {
      "image/png": {
       "height": 420,
       "width": 420
      }
     },
     "output_type": "display_data"
    }
   ],
   "source": [
    "# change right to both\n",
    "\n",
    "null_model_plot <- null_model %>%\n",
    "                    visualize(fill = \"skyblue\") +\n",
    "                    shade_p_value(obs_stat = obs_diff_in_medians, direction = \"both\", fill = \"orange\")+\n",
    "                    xlab(\"difference in median income (in thousands)\") +\n",
    "                    ggtitle(\"Null Model for Difference in Median Income\")\n",
    "\n",
    "null_model_plot"
   ]
  },
  {
   "cell_type": "code",
   "execution_count": 25,
   "id": "53dee3c7-2f9a-429d-9e6b-a6337ca892f7",
   "metadata": {},
   "outputs": [
    {
     "data": {
      "text/html": [
       "0.2002"
      ],
      "text/latex": [
       "0.2002"
      ],
      "text/markdown": [
       "0.2002"
      ],
      "text/plain": [
       "[1] 0.2002"
      ]
     },
     "metadata": {},
     "output_type": "display_data"
    }
   ],
   "source": [
    "# change \"right\" to \"both\"\n",
    "p_value <- null_model %>%\n",
    "    get_p_value(obs_stat = obs_diff_in_medians, direction = \"both\") %>%\n",
    "    pull()\n",
    "\n",
    "p_value"
   ]
  },
  {
   "cell_type": "markdown",
   "id": "0567c8db-5138-4a5b-ada0-72db6d7f328e",
   "metadata": {},
   "source": [
    "### Discussion about the P value\n",
    "\n",
    "The p-value is greater than the beforehand set significance level of 10%.  This means that we do not have sufficient evidence to reject the null hypothesis (type II error is possible).\n",
    "... further elaborate on this."
   ]
  },
  {
   "cell_type": "markdown",
   "id": "9608dede-fa07-40cb-8d5a-4e821497c04b",
   "metadata": {},
   "source": [
    "### Hypothesis Test: True Median for DS Overall"
   ]
  },
  {
   "cell_type": "markdown",
   "id": "7ed5bd88-fdc6-41d0-99e0-4f190d5e39f4",
   "metadata": {},
   "source": [
    "Null Hypothesis: true median for full time, US Data Scientists is as stated in US News and World Report i.e. US$ 98,230.\n",
    "\n",
    "Alternative Hypothesis: true median for full time US Data Scientists is (different/ greater) than the figure stated by US News and World Report."
   ]
  },
  {
   "cell_type": "code",
   "execution_count": 28,
   "id": "55e76ed7-6e5a-49ec-ad39-db5125e3ea41",
   "metadata": {},
   "outputs": [
    {
     "data": {
      "text/html": [
       "<table class=\"dataframe\">\n",
       "<caption>A tibble: 6 × 2</caption>\n",
       "<thead>\n",
       "\t<tr><th scope=col>replicate</th><th scope=col>stat</th></tr>\n",
       "\t<tr><th scope=col>&lt;int&gt;</th><th scope=col>&lt;dbl&gt;</th></tr>\n",
       "</thead>\n",
       "<tbody>\n",
       "\t<tr><td>1</td><td>94755.0</td></tr>\n",
       "\t<tr><td>2</td><td>96635.5</td></tr>\n",
       "\t<tr><td>3</td><td>97325.5</td></tr>\n",
       "\t<tr><td>4</td><td>94755.0</td></tr>\n",
       "\t<tr><td>5</td><td>94755.0</td></tr>\n",
       "\t<tr><td>6</td><td>94755.0</td></tr>\n",
       "</tbody>\n",
       "</table>\n"
      ],
      "text/latex": [
       "A tibble: 6 × 2\n",
       "\\begin{tabular}{ll}\n",
       " replicate & stat\\\\\n",
       " <int> & <dbl>\\\\\n",
       "\\hline\n",
       "\t 1 & 94755.0\\\\\n",
       "\t 2 & 96635.5\\\\\n",
       "\t 3 & 97325.5\\\\\n",
       "\t 4 & 94755.0\\\\\n",
       "\t 5 & 94755.0\\\\\n",
       "\t 6 & 94755.0\\\\\n",
       "\\end{tabular}\n"
      ],
      "text/markdown": [
       "\n",
       "A tibble: 6 × 2\n",
       "\n",
       "| replicate &lt;int&gt; | stat &lt;dbl&gt; |\n",
       "|---|---|\n",
       "| 1 | 94755.0 |\n",
       "| 2 | 96635.5 |\n",
       "| 3 | 97325.5 |\n",
       "| 4 | 94755.0 |\n",
       "| 5 | 94755.0 |\n",
       "| 6 | 94755.0 |\n",
       "\n"
      ],
      "text/plain": [
       "  replicate stat   \n",
       "1 1         94755.0\n",
       "2 2         96635.5\n",
       "3 3         97325.5\n",
       "4 4         94755.0\n",
       "5 5         94755.0\n",
       "6 6         94755.0"
      ]
     },
     "metadata": {},
     "output_type": "display_data"
    }
   ],
   "source": [
    "# Null Model\n",
    "null_median <- 98230\n",
    "\n",
    "overall_median_nullmodel <- ds_workers %>%\n",
    "    specify(response = salary_in_usd) %>%\n",
    "    hypothesise(null = \"point\", med = null_median) %>%\n",
    "    generate(reps = 10000, type = \"bootstrap\") %>%\n",
    "    calculate(stat = \"median\")\n",
    "    \n",
    "head(overall_median_nullmodel)    "
   ]
  },
  {
   "cell_type": "code",
   "execution_count": 29,
   "id": "a94356a7-cce5-4353-8e75-4b5c788c11b2",
   "metadata": {},
   "outputs": [
    {
     "data": {
      "image/png": "[encoded data removed]",
      "text/plain": [
       "plot without title"
      ]
     },
     "metadata": {
      "image/png": {
       "height": 420,
       "width": 420
      }
     },
     "output_type": "display_data"
    }
   ],
   "source": [
    "# change right to both\n",
    "\n",
    "observed_median <- 140000 \n",
    "\n",
    "overall_median_nullmodel_plot <- \n",
    "    overall_median_nullmodel %>%\n",
    "    visualize(fill=\"skyblue\", bins = 10) +\n",
    "    shade_p_value(obs_stat = observed_median, direction = \"both\", fill = \"orange\") +\n",
    "    xlab(\"salary in US$\") +\n",
    "    ggtitle(\"Simulated Null Distribution of US Data Scientists Median Salary\")\n",
    "    \n",
    "\n",
    "overall_median_nullmodel_plot"
   ]
  },
  {
   "cell_type": "code",
   "execution_count": 30,
   "id": "7dfc009b-e9a6-4893-9de9-5fb1fee628e6",
   "metadata": {},
   "outputs": [
    {
     "name": "stderr",
     "output_type": "stream",
     "text": [
      "Warning message:\n",
      "“Please be cautious in reporting a p-value of 0. This result is an approximation based on the number of `reps` chosen in the `generate()` step. See `?get_p_value()` for more information.”\n"
     ]
    },
    {
     "data": {
      "text/html": [
       "0"
      ],
      "text/latex": [
       "0"
      ],
      "text/markdown": [
       "0"
      ],
      "text/plain": [
       "[1] 0"
      ]
     },
     "metadata": {},
     "output_type": "display_data"
    }
   ],
   "source": [
    "# change right to both\n",
    "\n",
    "overall_median_p_value <- \n",
    "    overall_median_nullmodel %>%\n",
    "    get_p_value(obs_stat = observed_median, direction = \"both\") %>%\n",
    "    pull()\n",
    "\n",
    "overall_median_p_value"
   ]
  },
  {
   "cell_type": "markdown",
   "id": "45e89679-b9cb-40ba-8c8b-9b1e18e354a3",
   "metadata": {},
   "source": [
    "### Discussion re p value\n",
    "\n",
    "Based on the p value, we should reject the null hypothesis at a 10% significance level. However, should discuss the limitations of the dataset itself, relative to the sampling of US News and World Report, and which is more likely to be an accurate representation of the true median."
   ]
  },
  {
   "cell_type": "code",
   "execution_count": null,
   "id": "e2585bc2-954c-4f3e-8f73-ee0e23db2a3f",
   "metadata": {},
   "outputs": [],
   "source": []
  }
 ],
 "metadata": {
  "kernelspec": {
   "display_name": "R",
   "language": "R",
   "name": "ir"
  },
  "language_info": {
   "codemirror_mode": "r",
   "file_extension": ".r",
   "mimetype": "text/x-r-source",
   "name": "R",
   "pygments_lexer": "r",
   "version": "4.0.5"
  }
 },
 "nbformat": 4,
 "nbformat_minor": 5
}
