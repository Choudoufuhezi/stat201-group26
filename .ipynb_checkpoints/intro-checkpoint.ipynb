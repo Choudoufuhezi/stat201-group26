{
 "cells": [
  {
   "cell_type": "code",
   "execution_count": 4,
   "id": "4fb96962-776c-4774-8b2e-8a66f73eda40",
   "metadata": {},
   "outputs": [],
   "source": [
    "library(tidyverse)\n",
    "library(repr)\n",
    "library(digest)\n",
    "library(infer)\n",
    "library(gridExtra)\n",
    "library(taxyvr)\n",
    "library(cowplot)"
   ]
  },
  {
   "cell_type": "code",
   "execution_count": 5,
   "id": "cf03212c-4a3f-4261-8bf7-40c2a9c857b5",
   "metadata": {},
   "outputs": [
    {
     "name": "stderr",
     "output_type": "stream",
     "text": [
      "\u001b[1m\u001b[22mNew names:\n",
      "\u001b[36m•\u001b[39m `` -> `...1`\n",
      "\u001b[1mRows: \u001b[22m\u001b[34m607\u001b[39m \u001b[1mColumns: \u001b[22m\u001b[34m12\u001b[39m\n",
      "\u001b[36m──\u001b[39m \u001b[1mColumn specification\u001b[22m \u001b[36m────────────────────────────────────────────────────────\u001b[39m\n",
      "\u001b[1mDelimiter:\u001b[22m \",\"\n",
      "\u001b[31mchr\u001b[39m (7): experience_level, employment_type, job_title, salary_currency, empl...\n",
      "\u001b[32mdbl\u001b[39m (5): ...1, work_year, salary, salary_in_usd, remote_ratio\n",
      "\n",
      "\u001b[36mℹ\u001b[39m Use `spec()` to retrieve the full column specification for this data.\n",
      "\u001b[36mℹ\u001b[39m Specify the column types or set `show_col_types = FALSE` to quiet this message.\n"
     ]
    },
    {
     "data": {
      "text/html": [
       "<table class=\"dataframe\">\n",
       "<caption>A tibble: 6 × 12</caption>\n",
       "<thead>\n",
       "\t<tr><th scope=col>...1</th><th scope=col>work_year</th><th scope=col>experience_level</th><th scope=col>employment_type</th><th scope=col>job_title</th><th scope=col>salary</th><th scope=col>salary_currency</th><th scope=col>salary_in_usd</th><th scope=col>employee_residence</th><th scope=col>remote_ratio</th><th scope=col>company_location</th><th scope=col>company_size</th></tr>\n",
       "\t<tr><th scope=col>&lt;dbl&gt;</th><th scope=col>&lt;dbl&gt;</th><th scope=col>&lt;chr&gt;</th><th scope=col>&lt;chr&gt;</th><th scope=col>&lt;chr&gt;</th><th scope=col>&lt;dbl&gt;</th><th scope=col>&lt;chr&gt;</th><th scope=col>&lt;dbl&gt;</th><th scope=col>&lt;chr&gt;</th><th scope=col>&lt;dbl&gt;</th><th scope=col>&lt;chr&gt;</th><th scope=col>&lt;chr&gt;</th></tr>\n",
       "</thead>\n",
       "<tbody>\n",
       "\t<tr><td>0</td><td>2020</td><td>MI</td><td>FT</td><td>Data Scientist            </td><td> 70000</td><td>EUR</td><td> 79833</td><td>DE</td><td>  0</td><td>DE</td><td>L</td></tr>\n",
       "\t<tr><td>1</td><td>2020</td><td>SE</td><td>FT</td><td>Machine Learning Scientist</td><td>260000</td><td>USD</td><td>260000</td><td>JP</td><td>  0</td><td>JP</td><td>S</td></tr>\n",
       "\t<tr><td>2</td><td>2020</td><td>SE</td><td>FT</td><td>Big Data Engineer         </td><td> 85000</td><td>GBP</td><td>109024</td><td>GB</td><td> 50</td><td>GB</td><td>M</td></tr>\n",
       "\t<tr><td>3</td><td>2020</td><td>MI</td><td>FT</td><td>Product Data Analyst      </td><td> 20000</td><td>USD</td><td> 20000</td><td>HN</td><td>  0</td><td>HN</td><td>S</td></tr>\n",
       "\t<tr><td>4</td><td>2020</td><td>SE</td><td>FT</td><td>Machine Learning Engineer </td><td>150000</td><td>USD</td><td>150000</td><td>US</td><td> 50</td><td>US</td><td>L</td></tr>\n",
       "\t<tr><td>5</td><td>2020</td><td>EN</td><td>FT</td><td>Data Analyst              </td><td> 72000</td><td>USD</td><td> 72000</td><td>US</td><td>100</td><td>US</td><td>L</td></tr>\n",
       "</tbody>\n",
       "</table>\n"
      ],
      "text/latex": [
       "A tibble: 6 × 12\n",
       "\\begin{tabular}{llllllllllll}\n",
       " ...1 & work\\_year & experience\\_level & employment\\_type & job\\_title & salary & salary\\_currency & salary\\_in\\_usd & employee\\_residence & remote\\_ratio & company\\_location & company\\_size\\\\\n",
       " <dbl> & <dbl> & <chr> & <chr> & <chr> & <dbl> & <chr> & <dbl> & <chr> & <dbl> & <chr> & <chr>\\\\\n",
       "\\hline\n",
       "\t 0 & 2020 & MI & FT & Data Scientist             &  70000 & EUR &  79833 & DE &   0 & DE & L\\\\\n",
       "\t 1 & 2020 & SE & FT & Machine Learning Scientist & 260000 & USD & 260000 & JP &   0 & JP & S\\\\\n",
       "\t 2 & 2020 & SE & FT & Big Data Engineer          &  85000 & GBP & 109024 & GB &  50 & GB & M\\\\\n",
       "\t 3 & 2020 & MI & FT & Product Data Analyst       &  20000 & USD &  20000 & HN &   0 & HN & S\\\\\n",
       "\t 4 & 2020 & SE & FT & Machine Learning Engineer  & 150000 & USD & 150000 & US &  50 & US & L\\\\\n",
       "\t 5 & 2020 & EN & FT & Data Analyst               &  72000 & USD &  72000 & US & 100 & US & L\\\\\n",
       "\\end{tabular}\n"
      ],
      "text/markdown": [
       "\n",
       "A tibble: 6 × 12\n",
       "\n",
       "| ...1 &lt;dbl&gt; | work_year &lt;dbl&gt; | experience_level &lt;chr&gt; | employment_type &lt;chr&gt; | job_title &lt;chr&gt; | salary &lt;dbl&gt; | salary_currency &lt;chr&gt; | salary_in_usd &lt;dbl&gt; | employee_residence &lt;chr&gt; | remote_ratio &lt;dbl&gt; | company_location &lt;chr&gt; | company_size &lt;chr&gt; |\n",
       "|---|---|---|---|---|---|---|---|---|---|---|---|\n",
       "| 0 | 2020 | MI | FT | Data Scientist             |  70000 | EUR |  79833 | DE |   0 | DE | L |\n",
       "| 1 | 2020 | SE | FT | Machine Learning Scientist | 260000 | USD | 260000 | JP |   0 | JP | S |\n",
       "| 2 | 2020 | SE | FT | Big Data Engineer          |  85000 | GBP | 109024 | GB |  50 | GB | M |\n",
       "| 3 | 2020 | MI | FT | Product Data Analyst       |  20000 | USD |  20000 | HN |   0 | HN | S |\n",
       "| 4 | 2020 | SE | FT | Machine Learning Engineer  | 150000 | USD | 150000 | US |  50 | US | L |\n",
       "| 5 | 2020 | EN | FT | Data Analyst               |  72000 | USD |  72000 | US | 100 | US | L |\n",
       "\n"
      ],
      "text/plain": [
       "  ...1 work_year experience_level employment_type job_title                 \n",
       "1 0    2020      MI               FT              Data Scientist            \n",
       "2 1    2020      SE               FT              Machine Learning Scientist\n",
       "3 2    2020      SE               FT              Big Data Engineer         \n",
       "4 3    2020      MI               FT              Product Data Analyst      \n",
       "5 4    2020      SE               FT              Machine Learning Engineer \n",
       "6 5    2020      EN               FT              Data Analyst              \n",
       "  salary salary_currency salary_in_usd employee_residence remote_ratio\n",
       "1  70000 EUR              79833        DE                   0         \n",
       "2 260000 USD             260000        JP                   0         \n",
       "3  85000 GBP             109024        GB                  50         \n",
       "4  20000 USD              20000        HN                   0         \n",
       "5 150000 USD             150000        US                  50         \n",
       "6  72000 USD              72000        US                 100         \n",
       "  company_location company_size\n",
       "1 DE               L           \n",
       "2 JP               S           \n",
       "3 GB               M           \n",
       "4 HN               S           \n",
       "5 US               L           \n",
       "6 US               L           "
      ]
     },
     "metadata": {},
     "output_type": "display_data"
    }
   ],
   "source": [
    "original_data <- read_csv(\"ds_salaries.csv\")\n",
    "head(original_data)"
   ]
  },
  {
   "cell_type": "code",
   "execution_count": 58,
   "id": "2ecac425-2f01-4032-b68b-7ee1da12ea98",
   "metadata": {},
   "outputs": [
    {
     "data": {
      "text/html": [
       "<table class=\"dataframe\">\n",
       "<caption>A tibble: 6 × 4</caption>\n",
       "<thead>\n",
       "\t<tr><th scope=col>salary_in_usd</th><th scope=col>employee_residence</th><th scope=col>job_title</th><th scope=col>experience_level</th></tr>\n",
       "\t<tr><th scope=col>&lt;dbl&gt;</th><th scope=col>&lt;chr&gt;</th><th scope=col>&lt;chr&gt;</th><th scope=col>&lt;chr&gt;</th></tr>\n",
       "</thead>\n",
       "<tbody>\n",
       "\t<tr><td>109024</td><td>GB</td><td>Big Data Engineer       </td><td>SE</td></tr>\n",
       "\t<tr><td>117104</td><td>CA</td><td>Machine Learning Manager</td><td>SE</td></tr>\n",
       "\t<tr><td>112872</td><td>GB</td><td>Data Engineer           </td><td>MI</td></tr>\n",
       "\t<tr><td> 76958</td><td>GB</td><td>Data Scientist          </td><td>MI</td></tr>\n",
       "\t<tr><td> 82528</td><td>GB</td><td>Research Scientist      </td><td>EN</td></tr>\n",
       "\t<tr><td> 54238</td><td>GB</td><td>Applied Data Scientist  </td><td>MI</td></tr>\n",
       "</tbody>\n",
       "</table>\n"
      ],
      "text/latex": [
       "A tibble: 6 × 4\n",
       "\\begin{tabular}{llll}\n",
       " salary\\_in\\_usd & employee\\_residence & job\\_title & experience\\_level\\\\\n",
       " <dbl> & <chr> & <chr> & <chr>\\\\\n",
       "\\hline\n",
       "\t 109024 & GB & Big Data Engineer        & SE\\\\\n",
       "\t 117104 & CA & Machine Learning Manager & SE\\\\\n",
       "\t 112872 & GB & Data Engineer            & MI\\\\\n",
       "\t  76958 & GB & Data Scientist           & MI\\\\\n",
       "\t  82528 & GB & Research Scientist       & EN\\\\\n",
       "\t  54238 & GB & Applied Data Scientist   & MI\\\\\n",
       "\\end{tabular}\n"
      ],
      "text/markdown": [
       "\n",
       "A tibble: 6 × 4\n",
       "\n",
       "| salary_in_usd &lt;dbl&gt; | employee_residence &lt;chr&gt; | job_title &lt;chr&gt; | experience_level &lt;chr&gt; |\n",
       "|---|---|---|---|\n",
       "| 109024 | GB | Big Data Engineer        | SE |\n",
       "| 117104 | CA | Machine Learning Manager | SE |\n",
       "| 112872 | GB | Data Engineer            | MI |\n",
       "|  76958 | GB | Data Scientist           | MI |\n",
       "|  82528 | GB | Research Scientist       | EN |\n",
       "|  54238 | GB | Applied Data Scientist   | MI |\n",
       "\n"
      ],
      "text/plain": [
       "  salary_in_usd employee_residence job_title                experience_level\n",
       "1 109024        GB                 Big Data Engineer        SE              \n",
       "2 117104        CA                 Machine Learning Manager SE              \n",
       "3 112872        GB                 Data Engineer            MI              \n",
       "4  76958        GB                 Data Scientist           MI              \n",
       "5  82528        GB                 Research Scientist       EN              \n",
       "6  54238        GB                 Applied Data Scientist   MI              "
      ]
     },
     "metadata": {},
     "output_type": "display_data"
    }
   ],
   "source": [
    "# cleaning the data\n",
    "clean_data <- original_data %>%\n",
    "    filter(!is.na(salary_in_usd),\n",
    "        employee_residence %in% c(\"CA\", \"GB\"),\n",
    "            employment_type == \"FT\") %>%\n",
    "    select(salary_in_usd, employee_residence, job_title, experience_level)\n",
    "\n",
    "head(clean_data)\n"
   ]
  },
  {
   "cell_type": "code",
   "execution_count": 59,
   "id": "b908d764-b5e6-49d4-82a6-0771b2c13876",
   "metadata": {},
   "outputs": [
    {
     "data": {
      "text/html": [
       "96981.2142857143"
      ],
      "text/latex": [
       "96981.2142857143"
      ],
      "text/markdown": [
       "96981.2142857143"
      ],
      "text/plain": [
       "[1] 96981.21"
      ]
     },
     "metadata": {},
     "output_type": "display_data"
    },
    {
     "data": {
      "text/html": [
       "81403.1590909091"
      ],
      "text/latex": [
       "81403.1590909091"
      ],
      "text/markdown": [
       "81403.1590909091"
      ],
      "text/plain": [
       "[1] 81403.16"
      ]
     },
     "metadata": {},
     "output_type": "display_data"
    },
    {
     "name": "stderr",
     "output_type": "stream",
     "text": [
      "Warning message:\n",
      "“Removed 2 rows containing missing values (geom_bar).”\n"
     ]
    }
   ],
   "source": [
    "\n",
    "ca_salary_mean <- \n",
    "    clean_data %>%\n",
    "    filter(employee_residence == \"CA\") %>%\n",
    "    summarise(mean_salary = mean(salary_in_usd)) %>%\n",
    "    pull()\n",
    "\n",
    "ca_salary_mean\n",
    "\n",
    "gb_salary_mean <-\n",
    "    clean_data %>%\n",
    "    filter(employee_residence == \"GB\") %>%\n",
    "    summarise(mean_salary = mean(salary_in_usd)) %>%\n",
    "    pull()\n",
    "\n",
    "gb_salary_mean\n",
    "\n",
    "us_salary_plot <-\n",
    "    clean_data %>%\n",
    "    filter(employee_residence == \"US\") %>%\n",
    "    ggplot(aes(x = salary_in_usd)) + \n",
    "    geom_histogram(binwidth = 5000, color=\"white\") +\n",
    "    xlab(\"salary in usd\") +\n",
    "    ggtitle(\"distribution of salaries in the US\")\n",
    "\n",
    "\n",
    "\n",
    "gb_salary_plot <-\n",
    "    clean_data %>%\n",
    "    filter(employee_residence == \"GB\") %>%\n",
    "    ggplot(aes(x = salary_in_usd)) + \n",
    "    geom_histogram(binwidth = 10000, color=\"white\") +\n",
    "    xlab(\"salary in usd\") +\n",
    "    ggtitle(\"distribution of salaries in GB\")\n",
    "\n",
    "\n",
    "plot_salaries <- plot_grid(us_salary_plot +\n",
    "                theme(axis.text.x = element_text(angle = 90)) +\n",
    "                scale_x_continuous(breaks = seq(40000, 120000, 200000),\n",
    "                                   limits = c(20000, 500000)),\n",
    "                gb_salary_plot + \n",
    "                theme(axis.text.x = element_text(angle = 90)) +\n",
    "                scale_x_continuous(breaks = seq(40000, 120000, 200000),\n",
    "                                   limits = c(20000, 220000)),\n",
    "                ncol = 2)\n",
    "\n",
    "title <- ggdraw() +\n",
    "    draw_label(\"Comparison of sample distribution of data science salaries\",\n",
    "                fontface = 'bold',\n",
    "                x = 0,\n",
    "                hjust = 0) +\n",
    "    theme(plot.margin = margin(0, 0, 0, 7))\n",
    "\n",
    "salary_grid <- plot_grid(title, plot_salaries, ncol = 1, rel_heights = c(0.1, 1))\n",
    "\n",
    "#salary_grid"
   ]
  },
  {
   "cell_type": "code",
   "execution_count": 50,
   "id": "138916a0-bb00-4dc3-911a-0a97f8da7f70",
   "metadata": {},
   "outputs": [
    {
     "data": {
      "text/html": [
       "83"
      ],
      "text/latex": [
       "83"
      ],
      "text/markdown": [
       "83"
      ],
      "text/plain": [
       "[1] 83"
      ]
     },
     "metadata": {},
     "output_type": "display_data"
    },
    {
     "data": {
      "text/html": [
       "326"
      ],
      "text/latex": [
       "326"
      ],
      "text/markdown": [
       "326"
      ],
      "text/plain": [
       "[1] 326"
      ]
     },
     "metadata": {},
     "output_type": "display_data"
    },
    {
     "data": {
      "text/html": [
       "198"
      ],
      "text/latex": [
       "198"
      ],
      "text/markdown": [
       "198"
      ],
      "text/plain": [
       "[1] 198"
      ]
     },
     "metadata": {},
     "output_type": "display_data"
    }
   ],
   "source": [
    "number_small <- original_data %>%\n",
    "    summarise(number_small = sum(company_size == \"S\")) %>%\n",
    "    pull()\n",
    "\n",
    "number_medium <- original_data %>%\n",
    "    summarise(number_medium = sum(company_size == \"M\")) %>%\n",
    "    pull()\n",
    "\n",
    "number_large <- original_data %>%\n",
    "    summarise(number_large = sum(company_size == \"L\")) %>%\n",
    "    pull()\n",
    "\n",
    "number_small\n",
    "number_medium\n",
    "number_large"
   ]
  },
  {
   "cell_type": "code",
   "execution_count": 55,
   "id": "833d80aa-7741-489b-a5be-39c1e5c1fa41",
   "metadata": {},
   "outputs": [
    {
     "data": {
      "text/html": [
       "<table class=\"dataframe\">\n",
       "<caption>A tibble: 6 × 5</caption>\n",
       "<thead>\n",
       "\t<tr><th scope=col>salary_in_usd</th><th scope=col>employee_residence</th><th scope=col>job_title</th><th scope=col>experience_level</th><th scope=col>company_size</th></tr>\n",
       "\t<tr><th scope=col>&lt;dbl&gt;</th><th scope=col>&lt;chr&gt;</th><th scope=col>&lt;chr&gt;</th><th scope=col>&lt;chr&gt;</th><th scope=col>&lt;chr&gt;</th></tr>\n",
       "</thead>\n",
       "<tbody>\n",
       "\t<tr><td> 79833</td><td>DE</td><td>Data Scientist            </td><td>MI</td><td>L</td></tr>\n",
       "\t<tr><td>260000</td><td>JP</td><td>Machine Learning Scientist</td><td>SE</td><td>S</td></tr>\n",
       "\t<tr><td>109024</td><td>GB</td><td>Big Data Engineer         </td><td>SE</td><td>M</td></tr>\n",
       "\t<tr><td> 20000</td><td>HN</td><td>Product Data Analyst      </td><td>MI</td><td>S</td></tr>\n",
       "\t<tr><td>150000</td><td>US</td><td>Machine Learning Engineer </td><td>SE</td><td>L</td></tr>\n",
       "\t<tr><td> 72000</td><td>US</td><td>Data Analyst              </td><td>EN</td><td>L</td></tr>\n",
       "</tbody>\n",
       "</table>\n"
      ],
      "text/latex": [
       "A tibble: 6 × 5\n",
       "\\begin{tabular}{lllll}\n",
       " salary\\_in\\_usd & employee\\_residence & job\\_title & experience\\_level & company\\_size\\\\\n",
       " <dbl> & <chr> & <chr> & <chr> & <chr>\\\\\n",
       "\\hline\n",
       "\t  79833 & DE & Data Scientist             & MI & L\\\\\n",
       "\t 260000 & JP & Machine Learning Scientist & SE & S\\\\\n",
       "\t 109024 & GB & Big Data Engineer          & SE & M\\\\\n",
       "\t  20000 & HN & Product Data Analyst       & MI & S\\\\\n",
       "\t 150000 & US & Machine Learning Engineer  & SE & L\\\\\n",
       "\t  72000 & US & Data Analyst               & EN & L\\\\\n",
       "\\end{tabular}\n"
      ],
      "text/markdown": [
       "\n",
       "A tibble: 6 × 5\n",
       "\n",
       "| salary_in_usd &lt;dbl&gt; | employee_residence &lt;chr&gt; | job_title &lt;chr&gt; | experience_level &lt;chr&gt; | company_size &lt;chr&gt; |\n",
       "|---|---|---|---|---|\n",
       "|  79833 | DE | Data Scientist             | MI | L |\n",
       "| 260000 | JP | Machine Learning Scientist | SE | S |\n",
       "| 109024 | GB | Big Data Engineer          | SE | M |\n",
       "|  20000 | HN | Product Data Analyst       | MI | S |\n",
       "| 150000 | US | Machine Learning Engineer  | SE | L |\n",
       "|  72000 | US | Data Analyst               | EN | L |\n",
       "\n"
      ],
      "text/plain": [
       "  salary_in_usd employee_residence job_title                  experience_level\n",
       "1  79833        DE                 Data Scientist             MI              \n",
       "2 260000        JP                 Machine Learning Scientist SE              \n",
       "3 109024        GB                 Big Data Engineer          SE              \n",
       "4  20000        HN                 Product Data Analyst       MI              \n",
       "5 150000        US                 Machine Learning Engineer  SE              \n",
       "6  72000        US                 Data Analyst               EN              \n",
       "  company_size\n",
       "1 L           \n",
       "2 S           \n",
       "3 M           \n",
       "4 S           \n",
       "5 L           \n",
       "6 L           "
      ]
     },
     "metadata": {},
     "output_type": "display_data"
    }
   ],
   "source": [
    "clean_data2 <- original_data %>%\n",
    "    filter(!is.na(salary_in_usd),\n",
    "            employment_type == \"FT\") %>%\n",
    "    select(salary_in_usd, employee_residence, job_title, experience_level, company_size)\n",
    "\n",
    "head(clean_data2)"
   ]
  },
  {
   "cell_type": "code",
   "execution_count": 56,
   "id": "71ebcc22-8740-4a0d-b1c2-8f8738744ab4",
   "metadata": {},
   "outputs": [
    {
     "data": {
      "text/html": [
       "76484"
      ],
      "text/latex": [
       "76484"
      ],
      "text/markdown": [
       "76484"
      ],
      "text/plain": [
       "[1] 76484"
      ]
     },
     "metadata": {},
     "output_type": "display_data"
    },
    {
     "data": {
      "text/html": [
       "118662.088050314"
      ],
      "text/latex": [
       "118662.088050314"
      ],
      "text/markdown": [
       "118662.088050314"
      ],
      "text/plain": [
       "[1] 118662.1"
      ]
     },
     "metadata": {},
     "output_type": "display_data"
    },
    {
     "data": {
      "text/html": [
       "119665.362694301"
      ],
      "text/latex": [
       "119665.362694301"
      ],
      "text/markdown": [
       "119665.362694301"
      ],
      "text/plain": [
       "[1] 119665.4"
      ]
     },
     "metadata": {},
     "output_type": "display_data"
    }
   ],
   "source": [
    "small_salary_mean <- \n",
    "    clean_data2 %>%\n",
    "    filter(company_size == \"S\") %>%\n",
    "    summarise(mean_salary = mean(salary_in_usd)) %>%\n",
    "    pull()\n",
    "\n",
    "medium_salary_mean <- \n",
    "    clean_data2 %>%\n",
    "    filter(company_size == \"M\") %>%\n",
    "    summarise(mean_salary = mean(salary_in_usd)) %>%\n",
    "    pull()\n",
    "\n",
    "large_salary_mean <- \n",
    "    clean_data2 %>%\n",
    "    filter(company_size == \"L\") %>%\n",
    "    summarise(mean_salary = mean(salary_in_usd)) %>%\n",
    "    pull()\n",
    "\n",
    "small_salary_mean\n",
    "medium_salary_mean\n",
    "large_salary_mean"
   ]
  },
  {
   "cell_type": "code",
   "execution_count": 60,
   "id": "a5348599-7f88-4a29-a63d-5b84d28915ab",
   "metadata": {},
   "outputs": [
    {
     "data": {
      "text/html": [
       "81895.5"
      ],
      "text/latex": [
       "81895.5"
      ],
      "text/markdown": [
       "81895.5"
      ],
      "text/plain": [
       "[1] 81895.5"
      ]
     },
     "metadata": {},
     "output_type": "display_data"
    },
    {
     "data": {
      "text/html": [
       "78526"
      ],
      "text/latex": [
       "78526"
      ],
      "text/markdown": [
       "78526"
      ],
      "text/plain": [
       "[1] 78526"
      ]
     },
     "metadata": {},
     "output_type": "display_data"
    }
   ],
   "source": [
    "ca_salary_median <- \n",
    "    clean_data %>%\n",
    "    filter(employee_residence == \"CA\") %>%\n",
    "    summarise(median_salary = median(salary_in_usd)) %>%\n",
    "    pull()\n",
    "\n",
    "gb_salary_median <-\n",
    "    clean_data %>%\n",
    "    filter(employee_residence == \"GB\") %>%\n",
    "    summarise(median_salary = median(salary_in_usd)) %>%\n",
    "    pull()\n",
    "\n",
    "ca_salary_median\n",
    "gb_salary_median"
   ]
  },
  {
   "cell_type": "code",
   "execution_count": 61,
   "id": "3a256b09-142e-462c-aaf4-a03d1ab19d6f",
   "metadata": {},
   "outputs": [
    {
     "data": {
      "text/html": [
       "127"
      ],
      "text/latex": [
       "127"
      ],
      "text/markdown": [
       "127"
      ],
      "text/plain": [
       "[1] 127"
      ]
     },
     "metadata": {},
     "output_type": "display_data"
    },
    {
     "data": {
      "text/html": [
       "99"
      ],
      "text/latex": [
       "99"
      ],
      "text/markdown": [
       "99"
      ],
      "text/plain": [
       "[1] 99"
      ]
     },
     "metadata": {},
     "output_type": "display_data"
    },
    {
     "data": {
      "text/html": [
       "381"
      ],
      "text/latex": [
       "381"
      ],
      "text/markdown": [
       "381"
      ],
      "text/plain": [
       "[1] 381"
      ]
     },
     "metadata": {},
     "output_type": "display_data"
    }
   ],
   "source": [
    "number_remote_ratio_0 <- original_data %>%\n",
    "    summarise(number = sum(remote_ratio == 0)) %>%\n",
    "    pull()\n",
    "\n",
    "number_remote_ratio_50 <- original_data %>%\n",
    "    summarise(number= sum(remote_ratio == 50)) %>%\n",
    "    pull()\n",
    "\n",
    "number_remote_ratio_100 <- original_data %>%\n",
    "    summarise(number = sum(remote_ratio == 100)) %>%\n",
    "    pull()\n",
    "\n",
    "number_remote_ratio_0\n",
    "number_remote_ratio_50\n",
    "number_remote_ratio_100"
   ]
  },
  {
   "cell_type": "code",
   "execution_count": 64,
   "id": "1629af4b-768c-4602-9eba-6220744a969c",
   "metadata": {},
   "outputs": [
    {
     "data": {
      "text/html": [
       "<table class=\"dataframe\">\n",
       "<caption>A tibble: 6 × 5</caption>\n",
       "<thead>\n",
       "\t<tr><th scope=col>salary_in_usd</th><th scope=col>employee_residence</th><th scope=col>job_title</th><th scope=col>experience_level</th><th scope=col>remote_ratio</th></tr>\n",
       "\t<tr><th scope=col>&lt;dbl&gt;</th><th scope=col>&lt;chr&gt;</th><th scope=col>&lt;chr&gt;</th><th scope=col>&lt;chr&gt;</th><th scope=col>&lt;dbl&gt;</th></tr>\n",
       "</thead>\n",
       "<tbody>\n",
       "\t<tr><td> 79833</td><td>DE</td><td>Data Scientist            </td><td>MI</td><td>  0</td></tr>\n",
       "\t<tr><td>260000</td><td>JP</td><td>Machine Learning Scientist</td><td>SE</td><td>  0</td></tr>\n",
       "\t<tr><td>109024</td><td>GB</td><td>Big Data Engineer         </td><td>SE</td><td> 50</td></tr>\n",
       "\t<tr><td> 20000</td><td>HN</td><td>Product Data Analyst      </td><td>MI</td><td>  0</td></tr>\n",
       "\t<tr><td>150000</td><td>US</td><td>Machine Learning Engineer </td><td>SE</td><td> 50</td></tr>\n",
       "\t<tr><td> 72000</td><td>US</td><td>Data Analyst              </td><td>EN</td><td>100</td></tr>\n",
       "</tbody>\n",
       "</table>\n"
      ],
      "text/latex": [
       "A tibble: 6 × 5\n",
       "\\begin{tabular}{lllll}\n",
       " salary\\_in\\_usd & employee\\_residence & job\\_title & experience\\_level & remote\\_ratio\\\\\n",
       " <dbl> & <chr> & <chr> & <chr> & <dbl>\\\\\n",
       "\\hline\n",
       "\t  79833 & DE & Data Scientist             & MI &   0\\\\\n",
       "\t 260000 & JP & Machine Learning Scientist & SE &   0\\\\\n",
       "\t 109024 & GB & Big Data Engineer          & SE &  50\\\\\n",
       "\t  20000 & HN & Product Data Analyst       & MI &   0\\\\\n",
       "\t 150000 & US & Machine Learning Engineer  & SE &  50\\\\\n",
       "\t  72000 & US & Data Analyst               & EN & 100\\\\\n",
       "\\end{tabular}\n"
      ],
      "text/markdown": [
       "\n",
       "A tibble: 6 × 5\n",
       "\n",
       "| salary_in_usd &lt;dbl&gt; | employee_residence &lt;chr&gt; | job_title &lt;chr&gt; | experience_level &lt;chr&gt; | remote_ratio &lt;dbl&gt; |\n",
       "|---|---|---|---|---|\n",
       "|  79833 | DE | Data Scientist             | MI |   0 |\n",
       "| 260000 | JP | Machine Learning Scientist | SE |   0 |\n",
       "| 109024 | GB | Big Data Engineer          | SE |  50 |\n",
       "|  20000 | HN | Product Data Analyst       | MI |   0 |\n",
       "| 150000 | US | Machine Learning Engineer  | SE |  50 |\n",
       "|  72000 | US | Data Analyst               | EN | 100 |\n",
       "\n"
      ],
      "text/plain": [
       "  salary_in_usd employee_residence job_title                  experience_level\n",
       "1  79833        DE                 Data Scientist             MI              \n",
       "2 260000        JP                 Machine Learning Scientist SE              \n",
       "3 109024        GB                 Big Data Engineer          SE              \n",
       "4  20000        HN                 Product Data Analyst       MI              \n",
       "5 150000        US                 Machine Learning Engineer  SE              \n",
       "6  72000        US                 Data Analyst               EN              \n",
       "  remote_ratio\n",
       "1   0         \n",
       "2   0         \n",
       "3  50         \n",
       "4   0         \n",
       "5  50         \n",
       "6 100         "
      ]
     },
     "metadata": {},
     "output_type": "display_data"
    }
   ],
   "source": [
    "clean_data3 <- original_data %>%\n",
    "    filter(!is.na(salary_in_usd),\n",
    "            employment_type == \"FT\") %>%\n",
    "    select(salary_in_usd, employee_residence, job_title, experience_level, remote_ratio)\n",
    "\n",
    "head(clean_data3)"
   ]
  },
  {
   "cell_type": "code",
   "execution_count": 66,
   "id": "d76e53a8-fda1-47af-9e80-13f15465c22b",
   "metadata": {},
   "outputs": [
    {
     "data": {
      "text/html": [
       "107039.976190476"
      ],
      "text/latex": [
       "107039.976190476"
      ],
      "text/markdown": [
       "107039.976190476"
      ],
      "text/plain": [
       "[1] 107040"
      ]
     },
     "metadata": {},
     "output_type": "display_data"
    },
    {
     "data": {
      "text/html": [
       "84440.0217391304"
      ],
      "text/latex": [
       "84440.0217391304"
      ],
      "text/markdown": [
       "84440.0217391304"
      ],
      "text/plain": [
       "[1] 84440.02"
      ]
     },
     "metadata": {},
     "output_type": "display_data"
    },
    {
     "data": {
      "text/html": [
       "122874.886486486"
      ],
      "text/latex": [
       "122874.886486486"
      ],
      "text/markdown": [
       "122874.886486486"
      ],
      "text/plain": [
       "[1] 122874.9"
      ]
     },
     "metadata": {},
     "output_type": "display_data"
    }
   ],
   "source": [
    "remote_ratio_0_mean <- \n",
    "    clean_data3 %>%\n",
    "    filter(remote_ratio == 0) %>%\n",
    "    summarise(mean_salary = mean(salary_in_usd)) %>%\n",
    "    pull()\n",
    "\n",
    "remote_ratio_50_mean <- \n",
    "    clean_data3 %>%\n",
    "    filter(remote_ratio == 50) %>%\n",
    "    summarise(mean_salary = mean(salary_in_usd)) %>%\n",
    "    pull()\n",
    "\n",
    "remote_ratio_100_mean <- \n",
    "    clean_data3 %>%\n",
    "    filter(remote_ratio == 100) %>%\n",
    "    summarise(mean_salary = mean(salary_in_usd)) %>%\n",
    "    pull()\n",
    "\n",
    "remote_ratio_0_mean\n",
    "remote_ratio_50_mean\n",
    "remote_ratio_100_mean"
   ]
  },
  {
   "cell_type": "code",
   "execution_count": 67,
   "id": "87974572-f6e5-45d1-8f0b-b4bceb34f104",
   "metadata": {},
   "outputs": [
    {
     "data": {
      "text/html": [
       "99000"
      ],
      "text/latex": [
       "99000"
      ],
      "text/markdown": [
       "99000"
      ],
      "text/plain": [
       "[1] 99000"
      ]
     },
     "metadata": {},
     "output_type": "display_data"
    },
    {
     "data": {
      "text/html": [
       "71562"
      ],
      "text/latex": [
       "71562"
      ],
      "text/markdown": [
       "71562"
      ],
      "text/plain": [
       "[1] 71562"
      ]
     },
     "metadata": {},
     "output_type": "display_data"
    },
    {
     "data": {
      "text/html": [
       "115717"
      ],
      "text/latex": [
       "115717"
      ],
      "text/markdown": [
       "115717"
      ],
      "text/plain": [
       "[1] 115717"
      ]
     },
     "metadata": {},
     "output_type": "display_data"
    }
   ],
   "source": [
    "remote_ratio_0_median <- \n",
    "    clean_data3 %>%\n",
    "    filter(remote_ratio == 0) %>%\n",
    "    summarise(median_salary = median(salary_in_usd)) %>%\n",
    "    pull()\n",
    "\n",
    "remote_ratio_50_median <- \n",
    "    clean_data3 %>%\n",
    "    filter(remote_ratio == 50) %>%\n",
    "    summarise(median_salary = median(salary_in_usd)) %>%\n",
    "    pull()\n",
    "\n",
    "remote_ratio_100_median <- \n",
    "    clean_data3 %>%\n",
    "    filter(remote_ratio == 100) %>%\n",
    "    summarise(median_salary = median(salary_in_usd)) %>%\n",
    "    pull()\n",
    "\n",
    "remote_ratio_0_median\n",
    "remote_ratio_50_median\n",
    "remote_ratio_100_median"
   ]
  },
  {
   "cell_type": "code",
   "execution_count": null,
   "id": "f0d36b49-7049-4ce3-aa0f-2b6507df7f62",
   "metadata": {},
   "outputs": [],
   "source": []
  }
 ],
 "metadata": {
  "kernelspec": {
   "display_name": "R",
   "language": "R",
   "name": "ir"
  },
  "language_info": {
   "codemirror_mode": "r",
   "file_extension": ".r",
   "mimetype": "text/x-r-source",
   "name": "R",
   "pygments_lexer": "r",
   "version": "4.0.5"
  }
 },
 "nbformat": 4,
 "nbformat_minor": 5
}
